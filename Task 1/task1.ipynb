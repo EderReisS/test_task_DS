{
 "cells": [
  {
   "cell_type": "markdown",
   "id": "b757c2f1",
   "metadata": {
    "toc": true
   },
   "source": [
    "<h1>Sumário<span class=\"tocSkip\"></span></h1>\n",
    "<div class=\"toc\"><ul class=\"toc-item\"><li><span><a href=\"#Task-1.-Working-with-data\" data-toc-modified-id=\"Task-1.-Working-with-data-1\"><span class=\"toc-item-num\">1&nbsp;&nbsp;</span>Task 1. Working with data</a></span><ul class=\"toc-item\"><li><span><a href=\"#1.1.-Download-the-data-set-movie_metadata.csv,-which-contains-data-about-films-from-IMDb\" data-toc-modified-id=\"1.1.-Download-the-data-set-movie_metadata.csv,-which-contains-data-about-films-from-IMDb-1.1\"><span class=\"toc-item-num\">1.1&nbsp;&nbsp;</span>1.1. Download the data set movie_metadata.csv, which contains data about films from IMDb</a></span></li><li><span><a href=\"#1.2.-The-duration-column-contains-data-on-the-film-length.-How-many-missing-values-are-there-in-this-column?\" data-toc-modified-id=\"1.2.-The-duration-column-contains-data-on-the-film-length.-How-many-missing-values-are-there-in-this-column?-1.2\"><span class=\"toc-item-num\">1.2&nbsp;&nbsp;</span>1.2. The duration column contains data on the film length. How many missing values are there in this column?</a></span></li><li><span><a href=\"#1.3.-Replace-the-missing-values-in-the-duration-column-with-the-median-value-for-this-column.\" data-toc-modified-id=\"1.3.-Replace-the-missing-values-in-the-duration-column-with-the-median-value-for-this-column.-1.3\"><span class=\"toc-item-num\">1.3&nbsp;&nbsp;</span>1.3. Replace the missing values in the duration column with the median value for this column.</a></span></li><li><span><a href=\"#1.4.-What-is-the-average-film-length?-Give-the-answer-as-a-floating-point-figure-rounded-to-two-decimal-places.\" data-toc-modified-id=\"1.4.-What-is-the-average-film-length?-Give-the-answer-as-a-floating-point-figure-rounded-to-two-decimal-places.-1.4\"><span class=\"toc-item-num\">1.4&nbsp;&nbsp;</span>1.4. What is the average film length? Give the answer as a floating-point figure rounded to two decimal places.</a></span></li><li><span><a href=\"#1.5.-Create-a-movie_duration_category-column,-which-will-contain-three-categories-depending-on-the-film-length:\" data-toc-modified-id=\"1.5.-Create-a-movie_duration_category-column,-which-will-contain-three-categories-depending-on-the-film-length:-1.5\"><span class=\"toc-item-num\">1.5&nbsp;&nbsp;</span>1.5. Create a movie_duration_category column, which will contain three categories depending on the film length:</a></span></li><li><span><a href=\"#1.6.-Build-a-summary-table-for-films-released-after-2000-(inclusively),-to-list-the-numbers-of-films:\" data-toc-modified-id=\"1.6.-Build-a-summary-table-for-films-released-after-2000-(inclusively),-to-list-the-numbers-of-films:-1.6\"><span class=\"toc-item-num\">1.6&nbsp;&nbsp;</span>1.6. Build a summary table for films released after 2000 (inclusively), to list the numbers of films:</a></span></li></ul></li></ul></div>"
   ]
  },
  {
   "cell_type": "markdown",
   "id": "11a7cb1a",
   "metadata": {},
   "source": [
    "## Task 1. Working with data"
   ]
  },
  {
   "cell_type": "markdown",
   "id": "5f52f137",
   "metadata": {},
   "source": [
    "data loading"
   ]
  },
  {
   "cell_type": "code",
   "execution_count": 1,
   "id": "c244e915",
   "metadata": {
    "ExecuteTime": {
     "end_time": "2022-02-11T01:35:25.627670Z",
     "start_time": "2022-02-11T01:35:25.098617Z"
    }
   },
   "outputs": [],
   "source": [
    "import numpy as np\n",
    "import pandas as pd"
   ]
  },
  {
   "cell_type": "markdown",
   "id": "9577ec98",
   "metadata": {},
   "source": [
    "### 1.1. Download the data set movie_metadata.csv, which contains data about films from IMDb\n",
    "(Internet Movie Database)."
   ]
  },
  {
   "cell_type": "code",
   "execution_count": 2,
   "id": "2b5d1884",
   "metadata": {
    "ExecuteTime": {
     "end_time": "2022-02-11T01:35:25.721475Z",
     "start_time": "2022-02-11T01:35:25.631457Z"
    }
   },
   "outputs": [],
   "source": [
    "data = pd.read_csv('movie_metadata.csv')"
   ]
  },
  {
   "cell_type": "code",
   "execution_count": 3,
   "id": "523714a1",
   "metadata": {
    "ExecuteTime": {
     "end_time": "2022-02-11T01:35:25.781558Z",
     "start_time": "2022-02-11T01:35:25.723871Z"
    }
   },
   "outputs": [
    {
     "data": {
      "text/html": [
       "<div>\n",
       "<style scoped>\n",
       "    .dataframe tbody tr th:only-of-type {\n",
       "        vertical-align: middle;\n",
       "    }\n",
       "\n",
       "    .dataframe tbody tr th {\n",
       "        vertical-align: top;\n",
       "    }\n",
       "\n",
       "    .dataframe thead th {\n",
       "        text-align: right;\n",
       "    }\n",
       "</style>\n",
       "<table border=\"1\" class=\"dataframe\">\n",
       "  <thead>\n",
       "    <tr style=\"text-align: right;\">\n",
       "      <th></th>\n",
       "      <th>color</th>\n",
       "      <th>director_name</th>\n",
       "      <th>num_critic_for_reviews</th>\n",
       "      <th>duration</th>\n",
       "      <th>director_facebook_likes</th>\n",
       "      <th>actor_3_facebook_likes</th>\n",
       "      <th>actor_2_name</th>\n",
       "      <th>actor_1_facebook_likes</th>\n",
       "      <th>gross</th>\n",
       "      <th>genres</th>\n",
       "      <th>...</th>\n",
       "      <th>num_user_for_reviews</th>\n",
       "      <th>language</th>\n",
       "      <th>country</th>\n",
       "      <th>content_rating</th>\n",
       "      <th>budget</th>\n",
       "      <th>title_year</th>\n",
       "      <th>actor_2_facebook_likes</th>\n",
       "      <th>imdb_score</th>\n",
       "      <th>aspect_ratio</th>\n",
       "      <th>movie_facebook_likes</th>\n",
       "    </tr>\n",
       "  </thead>\n",
       "  <tbody>\n",
       "    <tr>\n",
       "      <th>0</th>\n",
       "      <td>Color</td>\n",
       "      <td>James Cameron</td>\n",
       "      <td>723.0</td>\n",
       "      <td>178.0</td>\n",
       "      <td>0.0</td>\n",
       "      <td>855.0</td>\n",
       "      <td>Joel David Moore</td>\n",
       "      <td>1000.0</td>\n",
       "      <td>760505847.0</td>\n",
       "      <td>Action|Adventure|Fantasy|Sci-Fi</td>\n",
       "      <td>...</td>\n",
       "      <td>3054.0</td>\n",
       "      <td>English</td>\n",
       "      <td>USA</td>\n",
       "      <td>PG-13</td>\n",
       "      <td>237000000.0$</td>\n",
       "      <td>2009.0</td>\n",
       "      <td>936.0</td>\n",
       "      <td>7.9</td>\n",
       "      <td>1.78</td>\n",
       "      <td>33000</td>\n",
       "    </tr>\n",
       "    <tr>\n",
       "      <th>1</th>\n",
       "      <td>Color</td>\n",
       "      <td>Gore Verbinski</td>\n",
       "      <td>302.0</td>\n",
       "      <td>169.0</td>\n",
       "      <td>563.0</td>\n",
       "      <td>1000.0</td>\n",
       "      <td>Orlando Bloom</td>\n",
       "      <td>40000.0</td>\n",
       "      <td>309404152.0</td>\n",
       "      <td>Action|Adventure|Fantasy</td>\n",
       "      <td>...</td>\n",
       "      <td>1238.0</td>\n",
       "      <td>English</td>\n",
       "      <td>USA</td>\n",
       "      <td>PG-13</td>\n",
       "      <td>300000000.0$</td>\n",
       "      <td>2007.0</td>\n",
       "      <td>5000.0</td>\n",
       "      <td>7.1</td>\n",
       "      <td>2.35</td>\n",
       "      <td>0</td>\n",
       "    </tr>\n",
       "    <tr>\n",
       "      <th>2</th>\n",
       "      <td>Color</td>\n",
       "      <td>Sam Mendes</td>\n",
       "      <td>602.0</td>\n",
       "      <td>148.0</td>\n",
       "      <td>0.0</td>\n",
       "      <td>161.0</td>\n",
       "      <td>Rory Kinnear</td>\n",
       "      <td>11000.0</td>\n",
       "      <td>200074175.0</td>\n",
       "      <td>Action|Adventure|Thriller</td>\n",
       "      <td>...</td>\n",
       "      <td>994.0</td>\n",
       "      <td>English</td>\n",
       "      <td>UK</td>\n",
       "      <td>PG-13</td>\n",
       "      <td>245000000.0$</td>\n",
       "      <td>2015.0</td>\n",
       "      <td>393.0</td>\n",
       "      <td>6.8</td>\n",
       "      <td>2.35</td>\n",
       "      <td>85000</td>\n",
       "    </tr>\n",
       "    <tr>\n",
       "      <th>3</th>\n",
       "      <td>Color</td>\n",
       "      <td>Christopher Nolan</td>\n",
       "      <td>813.0</td>\n",
       "      <td>164.0</td>\n",
       "      <td>22000.0</td>\n",
       "      <td>23000.0</td>\n",
       "      <td>Christian Bale</td>\n",
       "      <td>27000.0</td>\n",
       "      <td>448130642.0</td>\n",
       "      <td>Action|Thriller</td>\n",
       "      <td>...</td>\n",
       "      <td>2701.0</td>\n",
       "      <td>English</td>\n",
       "      <td>USA</td>\n",
       "      <td>PG-13</td>\n",
       "      <td>250000000.0$</td>\n",
       "      <td>2012.0</td>\n",
       "      <td>23000.0</td>\n",
       "      <td>8.5</td>\n",
       "      <td>2.35</td>\n",
       "      <td>164000</td>\n",
       "    </tr>\n",
       "    <tr>\n",
       "      <th>4</th>\n",
       "      <td>NaN</td>\n",
       "      <td>Doug Walker</td>\n",
       "      <td>NaN</td>\n",
       "      <td>NaN</td>\n",
       "      <td>131.0</td>\n",
       "      <td>NaN</td>\n",
       "      <td>Rob Walker</td>\n",
       "      <td>131.0</td>\n",
       "      <td>NaN</td>\n",
       "      <td>Documentary</td>\n",
       "      <td>...</td>\n",
       "      <td>NaN</td>\n",
       "      <td>NaN</td>\n",
       "      <td>NaN</td>\n",
       "      <td>NaN</td>\n",
       "      <td>0.0$</td>\n",
       "      <td>NaN</td>\n",
       "      <td>12.0</td>\n",
       "      <td>7.1</td>\n",
       "      <td>NaN</td>\n",
       "      <td>0</td>\n",
       "    </tr>\n",
       "  </tbody>\n",
       "</table>\n",
       "<p>5 rows × 28 columns</p>\n",
       "</div>"
      ],
      "text/plain": [
       "   color      director_name  num_critic_for_reviews  duration  \\\n",
       "0  Color      James Cameron                   723.0     178.0   \n",
       "1  Color     Gore Verbinski                   302.0     169.0   \n",
       "2  Color         Sam Mendes                   602.0     148.0   \n",
       "3  Color  Christopher Nolan                   813.0     164.0   \n",
       "4    NaN        Doug Walker                     NaN       NaN   \n",
       "\n",
       "   director_facebook_likes  actor_3_facebook_likes      actor_2_name  \\\n",
       "0                      0.0                   855.0  Joel David Moore   \n",
       "1                    563.0                  1000.0     Orlando Bloom   \n",
       "2                      0.0                   161.0      Rory Kinnear   \n",
       "3                  22000.0                 23000.0    Christian Bale   \n",
       "4                    131.0                     NaN        Rob Walker   \n",
       "\n",
       "   actor_1_facebook_likes        gross                           genres  ...  \\\n",
       "0                  1000.0  760505847.0  Action|Adventure|Fantasy|Sci-Fi  ...   \n",
       "1                 40000.0  309404152.0         Action|Adventure|Fantasy  ...   \n",
       "2                 11000.0  200074175.0        Action|Adventure|Thriller  ...   \n",
       "3                 27000.0  448130642.0                  Action|Thriller  ...   \n",
       "4                   131.0          NaN                      Documentary  ...   \n",
       "\n",
       "  num_user_for_reviews language  country  content_rating        budget  \\\n",
       "0               3054.0  English      USA           PG-13  237000000.0$   \n",
       "1               1238.0  English      USA           PG-13  300000000.0$   \n",
       "2                994.0  English       UK           PG-13  245000000.0$   \n",
       "3               2701.0  English      USA           PG-13  250000000.0$   \n",
       "4                  NaN      NaN      NaN             NaN          0.0$   \n",
       "\n",
       "   title_year actor_2_facebook_likes imdb_score  aspect_ratio  \\\n",
       "0      2009.0                  936.0        7.9          1.78   \n",
       "1      2007.0                 5000.0        7.1          2.35   \n",
       "2      2015.0                  393.0        6.8          2.35   \n",
       "3      2012.0                23000.0        8.5          2.35   \n",
       "4         NaN                   12.0        7.1           NaN   \n",
       "\n",
       "  movie_facebook_likes  \n",
       "0                33000  \n",
       "1                    0  \n",
       "2                85000  \n",
       "3               164000  \n",
       "4                    0  \n",
       "\n",
       "[5 rows x 28 columns]"
      ]
     },
     "execution_count": 3,
     "metadata": {},
     "output_type": "execute_result"
    }
   ],
   "source": [
    "data.head()"
   ]
  },
  {
   "cell_type": "markdown",
   "id": "70e5057b",
   "metadata": {
    "ExecuteTime": {
     "end_time": "2022-02-10T23:14:17.204004Z",
     "start_time": "2022-02-10T23:14:17.196169Z"
    }
   },
   "source": [
    "### 1.2. The duration column contains data on the film length. How many missing values are there in this column?"
   ]
  },
  {
   "cell_type": "code",
   "execution_count": 4,
   "id": "64af7873",
   "metadata": {
    "ExecuteTime": {
     "end_time": "2022-02-11T01:35:25.792209Z",
     "start_time": "2022-02-11T01:35:25.785256Z"
    }
   },
   "outputs": [
    {
     "name": "stdout",
     "output_type": "stream",
     "text": [
      "There are 15 missing values in duration column \n"
     ]
    }
   ],
   "source": [
    "missing_duration_column = data.duration.isna().sum()\n",
    "print(f\"There are {missing_duration_column} missing values in duration column \")"
   ]
  },
  {
   "cell_type": "markdown",
   "id": "2d549212",
   "metadata": {},
   "source": [
    "### 1.3. Replace the missing values in the duration column with the median value for this column."
   ]
  },
  {
   "cell_type": "code",
   "execution_count": 5,
   "id": "0a7edcc2",
   "metadata": {
    "ExecuteTime": {
     "end_time": "2022-02-11T01:35:25.806347Z",
     "start_time": "2022-02-11T01:35:25.795296Z"
    }
   },
   "outputs": [
    {
     "data": {
      "text/plain": [
       "103.0"
      ]
     },
     "execution_count": 5,
     "metadata": {},
     "output_type": "execute_result"
    }
   ],
   "source": [
    "median_duration = data.duration.quantile(0.5)\n",
    "median_duration"
   ]
  },
  {
   "cell_type": "code",
   "execution_count": 6,
   "id": "72a6ed92",
   "metadata": {
    "ExecuteTime": {
     "end_time": "2022-02-11T01:35:25.814332Z",
     "start_time": "2022-02-11T01:35:25.809205Z"
    }
   },
   "outputs": [],
   "source": [
    "# Replacing\n",
    "data['duration'] = data['duration'].fillna(median_duration)"
   ]
  },
  {
   "cell_type": "code",
   "execution_count": 7,
   "id": "e906107a",
   "metadata": {
    "ExecuteTime": {
     "end_time": "2022-02-11T01:35:25.822460Z",
     "start_time": "2022-02-11T01:35:25.817153Z"
    }
   },
   "outputs": [
    {
     "name": "stdout",
     "output_type": "stream",
     "text": [
      "There are 0 missing values in duration column \n"
     ]
    }
   ],
   "source": [
    "missing_duration_column = data.duration.isna().sum()\n",
    "print(f\"There are {missing_duration_column} missing values in duration column \")"
   ]
  },
  {
   "cell_type": "markdown",
   "id": "d72fd569",
   "metadata": {},
   "source": [
    "### 1.4. What is the average film length? Give the answer as a floating-point figure rounded to two decimal places."
   ]
  },
  {
   "cell_type": "code",
   "execution_count": 8,
   "id": "27f92d21",
   "metadata": {
    "ExecuteTime": {
     "end_time": "2022-02-11T01:35:25.829524Z",
     "start_time": "2022-02-11T01:35:25.825088Z"
    }
   },
   "outputs": [],
   "source": [
    "mean_duration= round(data.duration.mean(), 2)"
   ]
  },
  {
   "cell_type": "code",
   "execution_count": 9,
   "id": "3a8283fb",
   "metadata": {
    "ExecuteTime": {
     "end_time": "2022-02-11T01:35:25.836488Z",
     "start_time": "2022-02-11T01:35:25.832196Z"
    }
   },
   "outputs": [
    {
     "name": "stdout",
     "output_type": "stream",
     "text": [
      " The average fil length is 107.19 \n"
     ]
    }
   ],
   "source": [
    "print(f\" The average fil length is {mean_duration} \")"
   ]
  },
  {
   "cell_type": "markdown",
   "id": "35431875",
   "metadata": {},
   "source": [
    "### 1.5. Create a movie_duration_category column, which will contain three categories depending on the film length:\n",
    "- Category \"1. <90\" if the film is less than 90 minutes long\n",
    "- Category \"2. 90–120\" if the film is between 90 minutes and two hours long (inclusively)\n",
    "- Category \"3. >120\" if the film is more than two hours long\n"
   ]
  },
  {
   "cell_type": "code",
   "execution_count": 10,
   "id": "604b8cfc",
   "metadata": {
    "ExecuteTime": {
     "end_time": "2022-02-11T01:35:25.845744Z",
     "start_time": "2022-02-11T01:35:25.841128Z"
    }
   },
   "outputs": [],
   "source": [
    "def categorize_duration(film_duration:float)->str:\n",
    "    if film_duration < 90:\n",
    "        category = \"1. <90\" \n",
    "    elif film_duration >120:\n",
    "         category = \"3. >120\"\n",
    "    else:\n",
    "        category = \"2. 90–120\"\n",
    "    return category    "
   ]
  },
  {
   "cell_type": "code",
   "execution_count": 11,
   "id": "0d9f887c",
   "metadata": {
    "ExecuteTime": {
     "end_time": "2022-02-11T01:35:25.854214Z",
     "start_time": "2022-02-11T01:35:25.848290Z"
    }
   },
   "outputs": [
    {
     "data": {
      "text/plain": [
       "'2. 90–120'"
      ]
     },
     "execution_count": 11,
     "metadata": {},
     "output_type": "execute_result"
    }
   ],
   "source": [
    "categorize_duration(100)"
   ]
  },
  {
   "cell_type": "code",
   "execution_count": 12,
   "id": "c028461d",
   "metadata": {
    "ExecuteTime": {
     "end_time": "2022-02-11T01:35:25.863674Z",
     "start_time": "2022-02-11T01:35:25.856527Z"
    }
   },
   "outputs": [],
   "source": [
    "movie_duration_category = np.vectorize(categorize_duration)(data.duration)"
   ]
  },
  {
   "cell_type": "code",
   "execution_count": 13,
   "id": "021a935b",
   "metadata": {
    "ExecuteTime": {
     "end_time": "2022-02-11T01:35:25.879489Z",
     "start_time": "2022-02-11T01:35:25.873162Z"
    }
   },
   "outputs": [],
   "source": [
    "data['movie_duration_category'] = movie_duration_category"
   ]
  },
  {
   "cell_type": "code",
   "execution_count": 14,
   "id": "83bf9614",
   "metadata": {
    "ExecuteTime": {
     "end_time": "2022-02-11T01:35:25.896436Z",
     "start_time": "2022-02-11T01:35:25.882117Z"
    }
   },
   "outputs": [
    {
     "data": {
      "text/plain": [
       "0      3. >120\n",
       "1      3. >120\n",
       "2      3. >120\n",
       "3      3. >120\n",
       "4    2. 90–120\n",
       "Name: movie_duration_category, dtype: object"
      ]
     },
     "execution_count": 14,
     "metadata": {},
     "output_type": "execute_result"
    }
   ],
   "source": [
    "#the last colum of dataset\n",
    "data.iloc[:,-1].head()"
   ]
  },
  {
   "cell_type": "markdown",
   "id": "e529e6a5",
   "metadata": {},
   "source": [
    "### 1.6. Build a summary table for films released after 2000 (inclusively), to list the numbers of films:\n",
    "- Table rows: year\n",
    "- Table columns: movie duration category (\"<90\", \"90–120\", \">120\")\n",
    "- The year of release should be displayed in the YYYY format."
   ]
  },
  {
   "cell_type": "code",
   "execution_count": 15,
   "id": "390d3302",
   "metadata": {
    "ExecuteTime": {
     "end_time": "2022-02-11T01:35:25.917702Z",
     "start_time": "2022-02-11T01:35:25.899234Z"
    }
   },
   "outputs": [
    {
     "data": {
      "text/html": [
       "<div>\n",
       "<style scoped>\n",
       "    .dataframe tbody tr th:only-of-type {\n",
       "        vertical-align: middle;\n",
       "    }\n",
       "\n",
       "    .dataframe tbody tr th {\n",
       "        vertical-align: top;\n",
       "    }\n",
       "\n",
       "    .dataframe thead th {\n",
       "        text-align: right;\n",
       "    }\n",
       "</style>\n",
       "<table border=\"1\" class=\"dataframe\">\n",
       "  <thead>\n",
       "    <tr style=\"text-align: right;\">\n",
       "      <th></th>\n",
       "      <th>title_year</th>\n",
       "      <th>movie_duration_category</th>\n",
       "    </tr>\n",
       "  </thead>\n",
       "  <tbody>\n",
       "    <tr>\n",
       "      <th>0</th>\n",
       "      <td>2009.0</td>\n",
       "      <td>3. &gt;120</td>\n",
       "    </tr>\n",
       "    <tr>\n",
       "      <th>1</th>\n",
       "      <td>2007.0</td>\n",
       "      <td>3. &gt;120</td>\n",
       "    </tr>\n",
       "    <tr>\n",
       "      <th>2</th>\n",
       "      <td>2015.0</td>\n",
       "      <td>3. &gt;120</td>\n",
       "    </tr>\n",
       "    <tr>\n",
       "      <th>3</th>\n",
       "      <td>2012.0</td>\n",
       "      <td>3. &gt;120</td>\n",
       "    </tr>\n",
       "    <tr>\n",
       "      <th>4</th>\n",
       "      <td>NaN</td>\n",
       "      <td>2. 90–120</td>\n",
       "    </tr>\n",
       "  </tbody>\n",
       "</table>\n",
       "</div>"
      ],
      "text/plain": [
       "   title_year movie_duration_category\n",
       "0      2009.0                 3. >120\n",
       "1      2007.0                 3. >120\n",
       "2      2015.0                 3. >120\n",
       "3      2012.0                 3. >120\n",
       "4         NaN               2. 90–120"
      ]
     },
     "execution_count": 15,
     "metadata": {},
     "output_type": "execute_result"
    }
   ],
   "source": [
    "# filtering the interesting columns\n",
    "summary_data = data.loc[:,['title_year','movie_duration_category']]\n",
    "summary_data.head()"
   ]
  },
  {
   "cell_type": "code",
   "execution_count": 16,
   "id": "b4f30364",
   "metadata": {
    "ExecuteTime": {
     "end_time": "2022-02-11T01:35:25.944597Z",
     "start_time": "2022-02-11T01:35:25.920059Z"
    }
   },
   "outputs": [
    {
     "data": {
      "text/html": [
       "<div>\n",
       "<style scoped>\n",
       "    .dataframe tbody tr th:only-of-type {\n",
       "        vertical-align: middle;\n",
       "    }\n",
       "\n",
       "    .dataframe tbody tr th {\n",
       "        vertical-align: top;\n",
       "    }\n",
       "\n",
       "    .dataframe thead th {\n",
       "        text-align: right;\n",
       "    }\n",
       "</style>\n",
       "<table border=\"1\" class=\"dataframe\">\n",
       "  <thead>\n",
       "    <tr style=\"text-align: right;\">\n",
       "      <th></th>\n",
       "      <th>title_year</th>\n",
       "      <th>1. &lt;90</th>\n",
       "      <th>2. 90–120</th>\n",
       "      <th>3. &gt;120</th>\n",
       "    </tr>\n",
       "  </thead>\n",
       "  <tbody>\n",
       "    <tr>\n",
       "      <th>0</th>\n",
       "      <td>2009.0</td>\n",
       "      <td>0</td>\n",
       "      <td>0</td>\n",
       "      <td>1</td>\n",
       "    </tr>\n",
       "    <tr>\n",
       "      <th>1</th>\n",
       "      <td>2007.0</td>\n",
       "      <td>0</td>\n",
       "      <td>0</td>\n",
       "      <td>1</td>\n",
       "    </tr>\n",
       "    <tr>\n",
       "      <th>2</th>\n",
       "      <td>2015.0</td>\n",
       "      <td>0</td>\n",
       "      <td>0</td>\n",
       "      <td>1</td>\n",
       "    </tr>\n",
       "    <tr>\n",
       "      <th>3</th>\n",
       "      <td>2012.0</td>\n",
       "      <td>0</td>\n",
       "      <td>0</td>\n",
       "      <td>1</td>\n",
       "    </tr>\n",
       "    <tr>\n",
       "      <th>4</th>\n",
       "      <td>NaN</td>\n",
       "      <td>0</td>\n",
       "      <td>1</td>\n",
       "      <td>0</td>\n",
       "    </tr>\n",
       "  </tbody>\n",
       "</table>\n",
       "</div>"
      ],
      "text/plain": [
       "   title_year  1. <90  2. 90–120  3. >120\n",
       "0      2009.0       0          0        1\n",
       "1      2007.0       0          0        1\n",
       "2      2015.0       0          0        1\n",
       "3      2012.0       0          0        1\n",
       "4         NaN       0          1        0"
      ]
     },
     "execution_count": 16,
     "metadata": {},
     "output_type": "execute_result"
    }
   ],
   "source": [
    "# setting the column 'movie duration category' as column \n",
    "summary_data = pd.get_dummies(summary_data, columns=['movie_duration_category'], prefix = '',prefix_sep='')\n",
    "summary_data.head()"
   ]
  },
  {
   "cell_type": "code",
   "execution_count": 17,
   "id": "6cc6baf5",
   "metadata": {
    "ExecuteTime": {
     "end_time": "2022-02-11T01:35:25.955561Z",
     "start_time": "2022-02-11T01:35:25.947570Z"
    }
   },
   "outputs": [],
   "source": [
    "# filtering by year starting 2000\n",
    "is_2000_or_foward = summary_data['title_year'] >= 2000\n",
    "summary_data = summary_data[is_2000_or_foward]"
   ]
  },
  {
   "cell_type": "code",
   "execution_count": 18,
   "id": "f1f3cef2",
   "metadata": {
    "ExecuteTime": {
     "end_time": "2022-02-11T01:35:25.966128Z",
     "start_time": "2022-02-11T01:35:25.961460Z"
    }
   },
   "outputs": [],
   "source": [
    "# the YYYY format.\n",
    "summary_data['title_year'] = summary_data['title_year'].astype(int)"
   ]
  },
  {
   "cell_type": "code",
   "execution_count": 19,
   "id": "8e410404",
   "metadata": {
    "ExecuteTime": {
     "end_time": "2022-02-11T01:35:25.984604Z",
     "start_time": "2022-02-11T01:35:25.969986Z"
    }
   },
   "outputs": [
    {
     "data": {
      "text/html": [
       "<div>\n",
       "<style scoped>\n",
       "    .dataframe tbody tr th:only-of-type {\n",
       "        vertical-align: middle;\n",
       "    }\n",
       "\n",
       "    .dataframe tbody tr th {\n",
       "        vertical-align: top;\n",
       "    }\n",
       "\n",
       "    .dataframe thead th {\n",
       "        text-align: right;\n",
       "    }\n",
       "</style>\n",
       "<table border=\"1\" class=\"dataframe\">\n",
       "  <thead>\n",
       "    <tr style=\"text-align: right;\">\n",
       "      <th></th>\n",
       "      <th>year</th>\n",
       "      <th>1. &lt;90</th>\n",
       "      <th>2. 90–120</th>\n",
       "      <th>3. &gt;120</th>\n",
       "    </tr>\n",
       "  </thead>\n",
       "  <tbody>\n",
       "    <tr>\n",
       "      <th>0</th>\n",
       "      <td>2009</td>\n",
       "      <td>0</td>\n",
       "      <td>0</td>\n",
       "      <td>1</td>\n",
       "    </tr>\n",
       "    <tr>\n",
       "      <th>1</th>\n",
       "      <td>2007</td>\n",
       "      <td>0</td>\n",
       "      <td>0</td>\n",
       "      <td>1</td>\n",
       "    </tr>\n",
       "    <tr>\n",
       "      <th>2</th>\n",
       "      <td>2015</td>\n",
       "      <td>0</td>\n",
       "      <td>0</td>\n",
       "      <td>1</td>\n",
       "    </tr>\n",
       "    <tr>\n",
       "      <th>3</th>\n",
       "      <td>2012</td>\n",
       "      <td>0</td>\n",
       "      <td>0</td>\n",
       "      <td>1</td>\n",
       "    </tr>\n",
       "    <tr>\n",
       "      <th>5</th>\n",
       "      <td>2012</td>\n",
       "      <td>0</td>\n",
       "      <td>0</td>\n",
       "      <td>1</td>\n",
       "    </tr>\n",
       "  </tbody>\n",
       "</table>\n",
       "</div>"
      ],
      "text/plain": [
       "   year  1. <90  2. 90–120  3. >120\n",
       "0  2009       0          0        1\n",
       "1  2007       0          0        1\n",
       "2  2015       0          0        1\n",
       "3  2012       0          0        1\n",
       "5  2012       0          0        1"
      ]
     },
     "execution_count": 19,
     "metadata": {},
     "output_type": "execute_result"
    }
   ],
   "source": [
    "#renmea 'title_year' to 'year' \n",
    "summary_data.rename(columns={'title_year':'year'},inplace = True)\n",
    "summary_data.head()"
   ]
  },
  {
   "cell_type": "code",
   "execution_count": 20,
   "id": "343b48f5",
   "metadata": {
    "ExecuteTime": {
     "end_time": "2022-02-11T01:35:26.008721Z",
     "start_time": "2022-02-11T01:35:25.987573Z"
    }
   },
   "outputs": [
    {
     "data": {
      "text/html": [
       "<div>\n",
       "<style scoped>\n",
       "    .dataframe tbody tr th:only-of-type {\n",
       "        vertical-align: middle;\n",
       "    }\n",
       "\n",
       "    .dataframe tbody tr th {\n",
       "        vertical-align: top;\n",
       "    }\n",
       "\n",
       "    .dataframe thead th {\n",
       "        text-align: right;\n",
       "    }\n",
       "</style>\n",
       "<table border=\"1\" class=\"dataframe\">\n",
       "  <thead>\n",
       "    <tr style=\"text-align: right;\">\n",
       "      <th></th>\n",
       "      <th>1. &lt;90</th>\n",
       "      <th>2. 90–120</th>\n",
       "      <th>3. &gt;120</th>\n",
       "    </tr>\n",
       "    <tr>\n",
       "      <th>year</th>\n",
       "      <th></th>\n",
       "      <th></th>\n",
       "      <th></th>\n",
       "    </tr>\n",
       "  </thead>\n",
       "  <tbody>\n",
       "    <tr>\n",
       "      <th>2000</th>\n",
       "      <td>25</td>\n",
       "      <td>112</td>\n",
       "      <td>34</td>\n",
       "    </tr>\n",
       "    <tr>\n",
       "      <th>2001</th>\n",
       "      <td>29</td>\n",
       "      <td>120</td>\n",
       "      <td>39</td>\n",
       "    </tr>\n",
       "    <tr>\n",
       "      <th>2002</th>\n",
       "      <td>36</td>\n",
       "      <td>146</td>\n",
       "      <td>27</td>\n",
       "    </tr>\n",
       "    <tr>\n",
       "      <th>2003</th>\n",
       "      <td>31</td>\n",
       "      <td>108</td>\n",
       "      <td>30</td>\n",
       "    </tr>\n",
       "    <tr>\n",
       "      <th>2004</th>\n",
       "      <td>30</td>\n",
       "      <td>142</td>\n",
       "      <td>42</td>\n",
       "    </tr>\n",
       "    <tr>\n",
       "      <th>2005</th>\n",
       "      <td>31</td>\n",
       "      <td>142</td>\n",
       "      <td>48</td>\n",
       "    </tr>\n",
       "    <tr>\n",
       "      <th>2006</th>\n",
       "      <td>40</td>\n",
       "      <td>146</td>\n",
       "      <td>53</td>\n",
       "    </tr>\n",
       "    <tr>\n",
       "      <th>2007</th>\n",
       "      <td>31</td>\n",
       "      <td>130</td>\n",
       "      <td>43</td>\n",
       "    </tr>\n",
       "    <tr>\n",
       "      <th>2008</th>\n",
       "      <td>29</td>\n",
       "      <td>160</td>\n",
       "      <td>36</td>\n",
       "    </tr>\n",
       "    <tr>\n",
       "      <th>2009</th>\n",
       "      <td>42</td>\n",
       "      <td>178</td>\n",
       "      <td>40</td>\n",
       "    </tr>\n",
       "    <tr>\n",
       "      <th>2010</th>\n",
       "      <td>26</td>\n",
       "      <td>171</td>\n",
       "      <td>33</td>\n",
       "    </tr>\n",
       "    <tr>\n",
       "      <th>2011</th>\n",
       "      <td>36</td>\n",
       "      <td>150</td>\n",
       "      <td>39</td>\n",
       "    </tr>\n",
       "    <tr>\n",
       "      <th>2012</th>\n",
       "      <td>41</td>\n",
       "      <td>139</td>\n",
       "      <td>41</td>\n",
       "    </tr>\n",
       "    <tr>\n",
       "      <th>2013</th>\n",
       "      <td>38</td>\n",
       "      <td>145</td>\n",
       "      <td>54</td>\n",
       "    </tr>\n",
       "    <tr>\n",
       "      <th>2014</th>\n",
       "      <td>36</td>\n",
       "      <td>171</td>\n",
       "      <td>45</td>\n",
       "    </tr>\n",
       "    <tr>\n",
       "      <th>2015</th>\n",
       "      <td>34</td>\n",
       "      <td>145</td>\n",
       "      <td>47</td>\n",
       "    </tr>\n",
       "    <tr>\n",
       "      <th>2016</th>\n",
       "      <td>8</td>\n",
       "      <td>79</td>\n",
       "      <td>19</td>\n",
       "    </tr>\n",
       "  </tbody>\n",
       "</table>\n",
       "</div>"
      ],
      "text/plain": [
       "      1. <90  2. 90–120  3. >120\n",
       "year                            \n",
       "2000      25        112       34\n",
       "2001      29        120       39\n",
       "2002      36        146       27\n",
       "2003      31        108       30\n",
       "2004      30        142       42\n",
       "2005      31        142       48\n",
       "2006      40        146       53\n",
       "2007      31        130       43\n",
       "2008      29        160       36\n",
       "2009      42        178       40\n",
       "2010      26        171       33\n",
       "2011      36        150       39\n",
       "2012      41        139       41\n",
       "2013      38        145       54\n",
       "2014      36        171       45\n",
       "2015      34        145       47\n",
       "2016       8         79       19"
      ]
     },
     "execution_count": 20,
     "metadata": {},
     "output_type": "execute_result"
    }
   ],
   "source": [
    "#sumary construtrion\n",
    "summary_data.groupby(by = 'year').sum()"
   ]
  }
 ],
 "metadata": {
  "kernelspec": {
   "display_name": "Python 3 (ipykernel)",
   "language": "python",
   "name": "python3"
  },
  "language_info": {
   "codemirror_mode": {
    "name": "ipython",
    "version": 3
   },
   "file_extension": ".py",
   "mimetype": "text/x-python",
   "name": "python",
   "nbconvert_exporter": "python",
   "pygments_lexer": "ipython3",
   "version": "3.8.10"
  },
  "toc": {
   "base_numbering": 1,
   "nav_menu": {},
   "number_sections": true,
   "sideBar": true,
   "skip_h1_title": true,
   "title_cell": "Sumário",
   "title_sidebar": "Contents",
   "toc_cell": true,
   "toc_position": {},
   "toc_section_display": true,
   "toc_window_display": false
  },
  "varInspector": {
   "cols": {
    "lenName": 16,
    "lenType": 16,
    "lenVar": 40
   },
   "kernels_config": {
    "python": {
     "delete_cmd_postfix": "",
     "delete_cmd_prefix": "del ",
     "library": "var_list.py",
     "varRefreshCmd": "print(var_dic_list())"
    },
    "r": {
     "delete_cmd_postfix": ") ",
     "delete_cmd_prefix": "rm(",
     "library": "var_list.r",
     "varRefreshCmd": "cat(var_dic_list()) "
    }
   },
   "types_to_exclude": [
    "module",
    "function",
    "builtin_function_or_method",
    "instance",
    "_Feature"
   ],
   "window_display": false
  }
 },
 "nbformat": 4,
 "nbformat_minor": 5
}
