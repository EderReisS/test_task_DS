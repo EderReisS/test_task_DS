{
 "cells": [
  {
   "cell_type": "markdown",
   "id": "b757c2f1",
   "metadata": {
    "toc": true
   },
   "source": [
    "<h1>Sumário<span class=\"tocSkip\"></span></h1>\n",
    "<div class=\"toc\"><ul class=\"toc-item\"><li><span><a href=\"#Task-1.-Working-with-data\" data-toc-modified-id=\"Task-1.-Working-with-data-1\"><span class=\"toc-item-num\">1&nbsp;&nbsp;</span>Task 1. Working with data</a></span><ul class=\"toc-item\"><li><span><a href=\"#1.1.-Download-the-data-set-movie_metadata.csv,-which-contains-data-about-films-from-IMDb\" data-toc-modified-id=\"1.1.-Download-the-data-set-movie_metadata.csv,-which-contains-data-about-films-from-IMDb-1.1\"><span class=\"toc-item-num\">1.1&nbsp;&nbsp;</span>1.1. Download the data set movie_metadata.csv, which contains data about films from IMDb</a></span></li><li><span><a href=\"#1.2.-The-duration-column-contains-data-on-the-film-length.-How-many-missing-values-are-there-in-this-column?\" data-toc-modified-id=\"1.2.-The-duration-column-contains-data-on-the-film-length.-How-many-missing-values-are-there-in-this-column?-1.2\"><span class=\"toc-item-num\">1.2&nbsp;&nbsp;</span>1.2. The duration column contains data on the film length. How many missing values are there in this column?</a></span></li><li><span><a href=\"#1.3.-Replace-the-missing-values-in-the-duration-column-with-the-median-value-for-this-column.\" data-toc-modified-id=\"1.3.-Replace-the-missing-values-in-the-duration-column-with-the-median-value-for-this-column.-1.3\"><span class=\"toc-item-num\">1.3&nbsp;&nbsp;</span>1.3. Replace the missing values in the duration column with the median value for this column.</a></span></li><li><span><a href=\"#1.4.-What-is-the-average-film-length?-Give-the-answer-as-a-floating-point-figure-rounded-to-two-decimal-places.\" data-toc-modified-id=\"1.4.-What-is-the-average-film-length?-Give-the-answer-as-a-floating-point-figure-rounded-to-two-decimal-places.-1.4\"><span class=\"toc-item-num\">1.4&nbsp;&nbsp;</span>1.4. What is the average film length? Give the answer as a floating-point figure rounded to two decimal places.</a></span></li><li><span><a href=\"#1.5.-Create-a-movie_duration_category-column,-which-will-contain-three-categories-depending-on-the-film-length:\" data-toc-modified-id=\"1.5.-Create-a-movie_duration_category-column,-which-will-contain-three-categories-depending-on-the-film-length:-1.5\"><span class=\"toc-item-num\">1.5&nbsp;&nbsp;</span>1.5. Create a movie_duration_category column, which will contain three categories depending on the film length:</a></span></li><li><span><a href=\"#1.6.-Build-a-summary-table-for-films-released-after-2000-(inclusively),-to-list-the-numbers-of-films:\" data-toc-modified-id=\"1.6.-Build-a-summary-table-for-films-released-after-2000-(inclusively),-to-list-the-numbers-of-films:-1.6\"><span class=\"toc-item-num\">1.6&nbsp;&nbsp;</span>1.6. Build a summary table for films released after 2000 (inclusively), to list the numbers of films:</a></span></li><li><span><a href=\"#1.7.-How-many-films-between-90-minutes-and-two-hours-long-were-released-in-2008?\" data-toc-modified-id=\"1.7.-How-many-films-between-90-minutes-and-two-hours-long-were-released-in-2008?-1.7\"><span class=\"toc-item-num\">1.7&nbsp;&nbsp;</span>1.7. How many films between 90 minutes and two hours long were released in 2008?</a></span></li><li><span><a href=\"#1.8.-The-plot_keywords-column-holds-keywords-characterizing-the-film's-plot.-Using-the-data-in-this-column,-create-a-column-called-movie_plot_category,-to-contain-four-categories\" data-toc-modified-id=\"1.8.-The-plot_keywords-column-holds-keywords-characterizing-the-film's-plot.-Using-the-data-in-this-column,-create-a-column-called-movie_plot_category,-to-contain-four-categories-1.8\"><span class=\"toc-item-num\">1.8&nbsp;&nbsp;</span>1.8. The plot_keywords column holds keywords characterizing the film's plot. Using the data in this column, create a column called movie_plot_category, to contain four categories</a></span></li><li><span><a href=\"#1.9.-The-imdb_score-column-shows-a-viewer-rating-for-the-film.-Build-a-table-to-reflect-the-average-rating-of-films-depending-on-which-movie_plot_category-category-they-belong-to.\" data-toc-modified-id=\"1.9.-The-imdb_score-column-shows-a-viewer-rating-for-the-film.-Build-a-table-to-reflect-the-average-rating-of-films-depending-on-which-movie_plot_category-category-they-belong-to.-1.9\"><span class=\"toc-item-num\">1.9&nbsp;&nbsp;</span>1.9. The imdb_score column shows a viewer rating for the film. Build a table to reflect the average rating of films depending on which movie_plot_category category they belong to.</a></span></li><li><span><a href=\"#1.10.-What-is-the-average-rating-of-films-in-the-&quot;love&quot;-category?-Give-the-answer-as-a-floatingpoint\" data-toc-modified-id=\"1.10.-What-is-the-average-rating-of-films-in-the-&quot;love&quot;-category?-Give-the-answer-as-a-floatingpoint-1.10\"><span class=\"toc-item-num\">1.10&nbsp;&nbsp;</span>1.10. What is the average rating of films in the \"love\" category? Give the answer as a floatingpoint</a></span></li><li><span><a href=\"#1.11.-The-budget-column-contains-the-film's-budget.-What-is-the-median-budget-for-all-the-films-listed?-Give-the-answer-as-an-integer.\" data-toc-modified-id=\"1.11.-The-budget-column-contains-the-film's-budget.-What-is-the-median-budget-for-all-the-films-listed?-Give-the-answer-as-an-integer.-1.11\"><span class=\"toc-item-num\">1.11&nbsp;&nbsp;</span>1.11. The budget column contains the film's budget. What is the median budget for all the films listed? Give the answer as an integer.</a></span></li></ul></li></ul></div>"
   ]
  },
  {
   "cell_type": "markdown",
   "id": "11a7cb1a",
   "metadata": {},
   "source": [
    "## Task 1. Working with data"
   ]
  },
  {
   "cell_type": "markdown",
   "id": "5f52f137",
   "metadata": {},
   "source": [
    "data loading"
   ]
  },
  {
   "cell_type": "code",
   "execution_count": 1,
   "id": "c244e915",
   "metadata": {
    "ExecuteTime": {
     "end_time": "2022-02-11T15:08:30.559305Z",
     "start_time": "2022-02-11T15:08:30.063816Z"
    }
   },
   "outputs": [],
   "source": [
    "import numpy as np\n",
    "import pandas as pd"
   ]
  },
  {
   "cell_type": "markdown",
   "id": "9577ec98",
   "metadata": {},
   "source": [
    "### 1.1. Download the data set movie_metadata.csv, which contains data about films from IMDb\n",
    "(Internet Movie Database)."
   ]
  },
  {
   "cell_type": "code",
   "execution_count": 2,
   "id": "2b5d1884",
   "metadata": {
    "ExecuteTime": {
     "end_time": "2022-02-11T15:08:30.647611Z",
     "start_time": "2022-02-11T15:08:30.563166Z"
    }
   },
   "outputs": [],
   "source": [
    "data = pd.read_csv('movie_metadata.csv')"
   ]
  },
  {
   "cell_type": "code",
   "execution_count": 3,
   "id": "523714a1",
   "metadata": {
    "ExecuteTime": {
     "end_time": "2022-02-11T15:08:30.725633Z",
     "start_time": "2022-02-11T15:08:30.650903Z"
    }
   },
   "outputs": [
    {
     "data": {
      "text/html": [
       "<div>\n",
       "<style scoped>\n",
       "    .dataframe tbody tr th:only-of-type {\n",
       "        vertical-align: middle;\n",
       "    }\n",
       "\n",
       "    .dataframe tbody tr th {\n",
       "        vertical-align: top;\n",
       "    }\n",
       "\n",
       "    .dataframe thead th {\n",
       "        text-align: right;\n",
       "    }\n",
       "</style>\n",
       "<table border=\"1\" class=\"dataframe\">\n",
       "  <thead>\n",
       "    <tr style=\"text-align: right;\">\n",
       "      <th></th>\n",
       "      <th>color</th>\n",
       "      <th>director_name</th>\n",
       "      <th>num_critic_for_reviews</th>\n",
       "      <th>duration</th>\n",
       "      <th>director_facebook_likes</th>\n",
       "      <th>actor_3_facebook_likes</th>\n",
       "      <th>actor_2_name</th>\n",
       "      <th>actor_1_facebook_likes</th>\n",
       "      <th>gross</th>\n",
       "      <th>genres</th>\n",
       "      <th>...</th>\n",
       "      <th>num_user_for_reviews</th>\n",
       "      <th>language</th>\n",
       "      <th>country</th>\n",
       "      <th>content_rating</th>\n",
       "      <th>budget</th>\n",
       "      <th>title_year</th>\n",
       "      <th>actor_2_facebook_likes</th>\n",
       "      <th>imdb_score</th>\n",
       "      <th>aspect_ratio</th>\n",
       "      <th>movie_facebook_likes</th>\n",
       "    </tr>\n",
       "  </thead>\n",
       "  <tbody>\n",
       "    <tr>\n",
       "      <th>0</th>\n",
       "      <td>Color</td>\n",
       "      <td>James Cameron</td>\n",
       "      <td>723.0</td>\n",
       "      <td>178.0</td>\n",
       "      <td>0.0</td>\n",
       "      <td>855.0</td>\n",
       "      <td>Joel David Moore</td>\n",
       "      <td>1000.0</td>\n",
       "      <td>760505847.0</td>\n",
       "      <td>Action|Adventure|Fantasy|Sci-Fi</td>\n",
       "      <td>...</td>\n",
       "      <td>3054.0</td>\n",
       "      <td>English</td>\n",
       "      <td>USA</td>\n",
       "      <td>PG-13</td>\n",
       "      <td>237000000.0$</td>\n",
       "      <td>2009.0</td>\n",
       "      <td>936.0</td>\n",
       "      <td>7.9</td>\n",
       "      <td>1.78</td>\n",
       "      <td>33000</td>\n",
       "    </tr>\n",
       "    <tr>\n",
       "      <th>1</th>\n",
       "      <td>Color</td>\n",
       "      <td>Gore Verbinski</td>\n",
       "      <td>302.0</td>\n",
       "      <td>169.0</td>\n",
       "      <td>563.0</td>\n",
       "      <td>1000.0</td>\n",
       "      <td>Orlando Bloom</td>\n",
       "      <td>40000.0</td>\n",
       "      <td>309404152.0</td>\n",
       "      <td>Action|Adventure|Fantasy</td>\n",
       "      <td>...</td>\n",
       "      <td>1238.0</td>\n",
       "      <td>English</td>\n",
       "      <td>USA</td>\n",
       "      <td>PG-13</td>\n",
       "      <td>300000000.0$</td>\n",
       "      <td>2007.0</td>\n",
       "      <td>5000.0</td>\n",
       "      <td>7.1</td>\n",
       "      <td>2.35</td>\n",
       "      <td>0</td>\n",
       "    </tr>\n",
       "    <tr>\n",
       "      <th>2</th>\n",
       "      <td>Color</td>\n",
       "      <td>Sam Mendes</td>\n",
       "      <td>602.0</td>\n",
       "      <td>148.0</td>\n",
       "      <td>0.0</td>\n",
       "      <td>161.0</td>\n",
       "      <td>Rory Kinnear</td>\n",
       "      <td>11000.0</td>\n",
       "      <td>200074175.0</td>\n",
       "      <td>Action|Adventure|Thriller</td>\n",
       "      <td>...</td>\n",
       "      <td>994.0</td>\n",
       "      <td>English</td>\n",
       "      <td>UK</td>\n",
       "      <td>PG-13</td>\n",
       "      <td>245000000.0$</td>\n",
       "      <td>2015.0</td>\n",
       "      <td>393.0</td>\n",
       "      <td>6.8</td>\n",
       "      <td>2.35</td>\n",
       "      <td>85000</td>\n",
       "    </tr>\n",
       "    <tr>\n",
       "      <th>3</th>\n",
       "      <td>Color</td>\n",
       "      <td>Christopher Nolan</td>\n",
       "      <td>813.0</td>\n",
       "      <td>164.0</td>\n",
       "      <td>22000.0</td>\n",
       "      <td>23000.0</td>\n",
       "      <td>Christian Bale</td>\n",
       "      <td>27000.0</td>\n",
       "      <td>448130642.0</td>\n",
       "      <td>Action|Thriller</td>\n",
       "      <td>...</td>\n",
       "      <td>2701.0</td>\n",
       "      <td>English</td>\n",
       "      <td>USA</td>\n",
       "      <td>PG-13</td>\n",
       "      <td>250000000.0$</td>\n",
       "      <td>2012.0</td>\n",
       "      <td>23000.0</td>\n",
       "      <td>8.5</td>\n",
       "      <td>2.35</td>\n",
       "      <td>164000</td>\n",
       "    </tr>\n",
       "    <tr>\n",
       "      <th>4</th>\n",
       "      <td>NaN</td>\n",
       "      <td>Doug Walker</td>\n",
       "      <td>NaN</td>\n",
       "      <td>NaN</td>\n",
       "      <td>131.0</td>\n",
       "      <td>NaN</td>\n",
       "      <td>Rob Walker</td>\n",
       "      <td>131.0</td>\n",
       "      <td>NaN</td>\n",
       "      <td>Documentary</td>\n",
       "      <td>...</td>\n",
       "      <td>NaN</td>\n",
       "      <td>NaN</td>\n",
       "      <td>NaN</td>\n",
       "      <td>NaN</td>\n",
       "      <td>0.0$</td>\n",
       "      <td>NaN</td>\n",
       "      <td>12.0</td>\n",
       "      <td>7.1</td>\n",
       "      <td>NaN</td>\n",
       "      <td>0</td>\n",
       "    </tr>\n",
       "  </tbody>\n",
       "</table>\n",
       "<p>5 rows × 28 columns</p>\n",
       "</div>"
      ],
      "text/plain": [
       "   color      director_name  num_critic_for_reviews  duration  \\\n",
       "0  Color      James Cameron                   723.0     178.0   \n",
       "1  Color     Gore Verbinski                   302.0     169.0   \n",
       "2  Color         Sam Mendes                   602.0     148.0   \n",
       "3  Color  Christopher Nolan                   813.0     164.0   \n",
       "4    NaN        Doug Walker                     NaN       NaN   \n",
       "\n",
       "   director_facebook_likes  actor_3_facebook_likes      actor_2_name  \\\n",
       "0                      0.0                   855.0  Joel David Moore   \n",
       "1                    563.0                  1000.0     Orlando Bloom   \n",
       "2                      0.0                   161.0      Rory Kinnear   \n",
       "3                  22000.0                 23000.0    Christian Bale   \n",
       "4                    131.0                     NaN        Rob Walker   \n",
       "\n",
       "   actor_1_facebook_likes        gross                           genres  ...  \\\n",
       "0                  1000.0  760505847.0  Action|Adventure|Fantasy|Sci-Fi  ...   \n",
       "1                 40000.0  309404152.0         Action|Adventure|Fantasy  ...   \n",
       "2                 11000.0  200074175.0        Action|Adventure|Thriller  ...   \n",
       "3                 27000.0  448130642.0                  Action|Thriller  ...   \n",
       "4                   131.0          NaN                      Documentary  ...   \n",
       "\n",
       "  num_user_for_reviews language  country  content_rating        budget  \\\n",
       "0               3054.0  English      USA           PG-13  237000000.0$   \n",
       "1               1238.0  English      USA           PG-13  300000000.0$   \n",
       "2                994.0  English       UK           PG-13  245000000.0$   \n",
       "3               2701.0  English      USA           PG-13  250000000.0$   \n",
       "4                  NaN      NaN      NaN             NaN          0.0$   \n",
       "\n",
       "   title_year actor_2_facebook_likes imdb_score  aspect_ratio  \\\n",
       "0      2009.0                  936.0        7.9          1.78   \n",
       "1      2007.0                 5000.0        7.1          2.35   \n",
       "2      2015.0                  393.0        6.8          2.35   \n",
       "3      2012.0                23000.0        8.5          2.35   \n",
       "4         NaN                   12.0        7.1           NaN   \n",
       "\n",
       "  movie_facebook_likes  \n",
       "0                33000  \n",
       "1                    0  \n",
       "2                85000  \n",
       "3               164000  \n",
       "4                    0  \n",
       "\n",
       "[5 rows x 28 columns]"
      ]
     },
     "execution_count": 3,
     "metadata": {},
     "output_type": "execute_result"
    }
   ],
   "source": [
    "data.head()"
   ]
  },
  {
   "cell_type": "markdown",
   "id": "70e5057b",
   "metadata": {
    "ExecuteTime": {
     "end_time": "2022-02-10T23:14:17.204004Z",
     "start_time": "2022-02-10T23:14:17.196169Z"
    }
   },
   "source": [
    "### 1.2. The duration column contains data on the film length. How many missing values are there in this column?"
   ]
  },
  {
   "cell_type": "code",
   "execution_count": 4,
   "id": "64af7873",
   "metadata": {
    "ExecuteTime": {
     "end_time": "2022-02-11T15:08:30.737318Z",
     "start_time": "2022-02-11T15:08:30.730085Z"
    }
   },
   "outputs": [
    {
     "name": "stdout",
     "output_type": "stream",
     "text": [
      "There are 15 missing values in duration column \n"
     ]
    }
   ],
   "source": [
    "missing_duration_column = data.duration.isna().sum()\n",
    "print(f\"There are {missing_duration_column} missing values in duration column \")"
   ]
  },
  {
   "cell_type": "markdown",
   "id": "2d549212",
   "metadata": {},
   "source": [
    "### 1.3. Replace the missing values in the duration column with the median value for this column."
   ]
  },
  {
   "cell_type": "code",
   "execution_count": 5,
   "id": "0a7edcc2",
   "metadata": {
    "ExecuteTime": {
     "end_time": "2022-02-11T15:08:30.750234Z",
     "start_time": "2022-02-11T15:08:30.740838Z"
    }
   },
   "outputs": [
    {
     "data": {
      "text/plain": [
       "103.0"
      ]
     },
     "execution_count": 5,
     "metadata": {},
     "output_type": "execute_result"
    }
   ],
   "source": [
    "median_duration = data.duration.quantile(0.5)\n",
    "median_duration"
   ]
  },
  {
   "cell_type": "code",
   "execution_count": 6,
   "id": "72a6ed92",
   "metadata": {
    "ExecuteTime": {
     "end_time": "2022-02-11T15:08:30.757959Z",
     "start_time": "2022-02-11T15:08:30.753004Z"
    }
   },
   "outputs": [],
   "source": [
    "# Replacing\n",
    "data['duration'] = data['duration'].fillna(median_duration)"
   ]
  },
  {
   "cell_type": "code",
   "execution_count": 7,
   "id": "e906107a",
   "metadata": {
    "ExecuteTime": {
     "end_time": "2022-02-11T15:08:30.767061Z",
     "start_time": "2022-02-11T15:08:30.760966Z"
    }
   },
   "outputs": [
    {
     "name": "stdout",
     "output_type": "stream",
     "text": [
      "There are 0 missing values in duration column \n"
     ]
    }
   ],
   "source": [
    "missing_duration_column = data.duration.isna().sum()\n",
    "print(f\"There are {missing_duration_column} missing values in duration column \")"
   ]
  },
  {
   "cell_type": "markdown",
   "id": "d72fd569",
   "metadata": {},
   "source": [
    "### 1.4. What is the average film length? Give the answer as a floating-point figure rounded to two decimal places."
   ]
  },
  {
   "cell_type": "code",
   "execution_count": 8,
   "id": "27f92d21",
   "metadata": {
    "ExecuteTime": {
     "end_time": "2022-02-11T15:08:30.774515Z",
     "start_time": "2022-02-11T15:08:30.770056Z"
    }
   },
   "outputs": [],
   "source": [
    "mean_duration= round(data.duration.mean(), 2)"
   ]
  },
  {
   "cell_type": "code",
   "execution_count": 9,
   "id": "3a8283fb",
   "metadata": {
    "ExecuteTime": {
     "end_time": "2022-02-11T15:08:30.782677Z",
     "start_time": "2022-02-11T15:08:30.777597Z"
    }
   },
   "outputs": [
    {
     "name": "stdout",
     "output_type": "stream",
     "text": [
      " The average fil length is 107.19 \n"
     ]
    }
   ],
   "source": [
    "print(f\" The average fil length is {mean_duration} \")"
   ]
  },
  {
   "cell_type": "markdown",
   "id": "35431875",
   "metadata": {},
   "source": [
    "### 1.5. Create a movie_duration_category column, which will contain three categories depending on the film length:\n",
    "- Category \"1. <90\" if the film is less than 90 minutes long\n",
    "- Category \"2. 90–120\" if the film is between 90 minutes and two hours long (inclusively)\n",
    "- Category \"3. >120\" if the film is more than two hours long\n"
   ]
  },
  {
   "cell_type": "code",
   "execution_count": 10,
   "id": "604b8cfc",
   "metadata": {
    "ExecuteTime": {
     "end_time": "2022-02-11T15:08:30.792034Z",
     "start_time": "2022-02-11T15:08:30.787188Z"
    }
   },
   "outputs": [],
   "source": [
    "def categorize_duration(film_duration:float)->str:\n",
    "    if film_duration < 90:\n",
    "        category = \"1. <90\" \n",
    "    elif film_duration >120:\n",
    "         category = \"3. >120\"\n",
    "    else:\n",
    "        category = \"2. 90–120\"\n",
    "    return category    "
   ]
  },
  {
   "cell_type": "code",
   "execution_count": 11,
   "id": "0d9f887c",
   "metadata": {
    "ExecuteTime": {
     "end_time": "2022-02-11T15:08:30.801841Z",
     "start_time": "2022-02-11T15:08:30.795176Z"
    }
   },
   "outputs": [
    {
     "data": {
      "text/plain": [
       "'2. 90–120'"
      ]
     },
     "execution_count": 11,
     "metadata": {},
     "output_type": "execute_result"
    }
   ],
   "source": [
    "categorize_duration(100)"
   ]
  },
  {
   "cell_type": "code",
   "execution_count": 12,
   "id": "c028461d",
   "metadata": {
    "ExecuteTime": {
     "end_time": "2022-02-11T15:08:30.819957Z",
     "start_time": "2022-02-11T15:08:30.804751Z"
    }
   },
   "outputs": [],
   "source": [
    "movie_duration_category = np.vectorize(categorize_duration)(data.duration)"
   ]
  },
  {
   "cell_type": "code",
   "execution_count": 13,
   "id": "021a935b",
   "metadata": {
    "ExecuteTime": {
     "end_time": "2022-02-11T15:08:30.831713Z",
     "start_time": "2022-02-11T15:08:30.825132Z"
    }
   },
   "outputs": [],
   "source": [
    "data['movie_duration_category'] = movie_duration_category"
   ]
  },
  {
   "cell_type": "code",
   "execution_count": 14,
   "id": "83bf9614",
   "metadata": {
    "ExecuteTime": {
     "end_time": "2022-02-11T15:08:30.843931Z",
     "start_time": "2022-02-11T15:08:30.835251Z"
    }
   },
   "outputs": [
    {
     "data": {
      "text/plain": [
       "0      3. >120\n",
       "1      3. >120\n",
       "2      3. >120\n",
       "3      3. >120\n",
       "4    2. 90–120\n",
       "Name: movie_duration_category, dtype: object"
      ]
     },
     "execution_count": 14,
     "metadata": {},
     "output_type": "execute_result"
    }
   ],
   "source": [
    "#the last colum of dataset\n",
    "data.iloc[:,-1].head()"
   ]
  },
  {
   "cell_type": "markdown",
   "id": "e529e6a5",
   "metadata": {},
   "source": [
    "### 1.6. Build a summary table for films released after 2000 (inclusively), to list the numbers of films:\n",
    "- Table rows: year\n",
    "- Table columns: movie duration category (\"<90\", \"90–120\", \">120\")\n",
    "- The year of release should be displayed in the YYYY format."
   ]
  },
  {
   "cell_type": "code",
   "execution_count": 15,
   "id": "390d3302",
   "metadata": {
    "ExecuteTime": {
     "end_time": "2022-02-11T15:08:30.863514Z",
     "start_time": "2022-02-11T15:08:30.846430Z"
    }
   },
   "outputs": [
    {
     "data": {
      "text/html": [
       "<div>\n",
       "<style scoped>\n",
       "    .dataframe tbody tr th:only-of-type {\n",
       "        vertical-align: middle;\n",
       "    }\n",
       "\n",
       "    .dataframe tbody tr th {\n",
       "        vertical-align: top;\n",
       "    }\n",
       "\n",
       "    .dataframe thead th {\n",
       "        text-align: right;\n",
       "    }\n",
       "</style>\n",
       "<table border=\"1\" class=\"dataframe\">\n",
       "  <thead>\n",
       "    <tr style=\"text-align: right;\">\n",
       "      <th></th>\n",
       "      <th>title_year</th>\n",
       "      <th>movie_duration_category</th>\n",
       "    </tr>\n",
       "  </thead>\n",
       "  <tbody>\n",
       "    <tr>\n",
       "      <th>0</th>\n",
       "      <td>2009.0</td>\n",
       "      <td>3. &gt;120</td>\n",
       "    </tr>\n",
       "    <tr>\n",
       "      <th>1</th>\n",
       "      <td>2007.0</td>\n",
       "      <td>3. &gt;120</td>\n",
       "    </tr>\n",
       "    <tr>\n",
       "      <th>2</th>\n",
       "      <td>2015.0</td>\n",
       "      <td>3. &gt;120</td>\n",
       "    </tr>\n",
       "    <tr>\n",
       "      <th>3</th>\n",
       "      <td>2012.0</td>\n",
       "      <td>3. &gt;120</td>\n",
       "    </tr>\n",
       "    <tr>\n",
       "      <th>4</th>\n",
       "      <td>NaN</td>\n",
       "      <td>2. 90–120</td>\n",
       "    </tr>\n",
       "  </tbody>\n",
       "</table>\n",
       "</div>"
      ],
      "text/plain": [
       "   title_year movie_duration_category\n",
       "0      2009.0                 3. >120\n",
       "1      2007.0                 3. >120\n",
       "2      2015.0                 3. >120\n",
       "3      2012.0                 3. >120\n",
       "4         NaN               2. 90–120"
      ]
     },
     "execution_count": 15,
     "metadata": {},
     "output_type": "execute_result"
    }
   ],
   "source": [
    "# filtering the interesting columns\n",
    "summary_data = data.loc[:,['title_year','movie_duration_category']]\n",
    "summary_data.head()"
   ]
  },
  {
   "cell_type": "code",
   "execution_count": 16,
   "id": "b4f30364",
   "metadata": {
    "ExecuteTime": {
     "end_time": "2022-02-11T15:08:30.894019Z",
     "start_time": "2022-02-11T15:08:30.866057Z"
    }
   },
   "outputs": [
    {
     "data": {
      "text/html": [
       "<div>\n",
       "<style scoped>\n",
       "    .dataframe tbody tr th:only-of-type {\n",
       "        vertical-align: middle;\n",
       "    }\n",
       "\n",
       "    .dataframe tbody tr th {\n",
       "        vertical-align: top;\n",
       "    }\n",
       "\n",
       "    .dataframe thead th {\n",
       "        text-align: right;\n",
       "    }\n",
       "</style>\n",
       "<table border=\"1\" class=\"dataframe\">\n",
       "  <thead>\n",
       "    <tr style=\"text-align: right;\">\n",
       "      <th></th>\n",
       "      <th>title_year</th>\n",
       "      <th>1. &lt;90</th>\n",
       "      <th>2. 90–120</th>\n",
       "      <th>3. &gt;120</th>\n",
       "    </tr>\n",
       "  </thead>\n",
       "  <tbody>\n",
       "    <tr>\n",
       "      <th>0</th>\n",
       "      <td>2009.0</td>\n",
       "      <td>0</td>\n",
       "      <td>0</td>\n",
       "      <td>1</td>\n",
       "    </tr>\n",
       "    <tr>\n",
       "      <th>1</th>\n",
       "      <td>2007.0</td>\n",
       "      <td>0</td>\n",
       "      <td>0</td>\n",
       "      <td>1</td>\n",
       "    </tr>\n",
       "    <tr>\n",
       "      <th>2</th>\n",
       "      <td>2015.0</td>\n",
       "      <td>0</td>\n",
       "      <td>0</td>\n",
       "      <td>1</td>\n",
       "    </tr>\n",
       "    <tr>\n",
       "      <th>3</th>\n",
       "      <td>2012.0</td>\n",
       "      <td>0</td>\n",
       "      <td>0</td>\n",
       "      <td>1</td>\n",
       "    </tr>\n",
       "    <tr>\n",
       "      <th>4</th>\n",
       "      <td>NaN</td>\n",
       "      <td>0</td>\n",
       "      <td>1</td>\n",
       "      <td>0</td>\n",
       "    </tr>\n",
       "  </tbody>\n",
       "</table>\n",
       "</div>"
      ],
      "text/plain": [
       "   title_year  1. <90  2. 90–120  3. >120\n",
       "0      2009.0       0          0        1\n",
       "1      2007.0       0          0        1\n",
       "2      2015.0       0          0        1\n",
       "3      2012.0       0          0        1\n",
       "4         NaN       0          1        0"
      ]
     },
     "execution_count": 16,
     "metadata": {},
     "output_type": "execute_result"
    }
   ],
   "source": [
    "# setting the column 'movie duration category' as column \n",
    "summary_data = pd.get_dummies(summary_data, columns=['movie_duration_category'], prefix = '',prefix_sep='')\n",
    "summary_data.head()"
   ]
  },
  {
   "cell_type": "code",
   "execution_count": 17,
   "id": "6cc6baf5",
   "metadata": {
    "ExecuteTime": {
     "end_time": "2022-02-11T15:08:30.903303Z",
     "start_time": "2022-02-11T15:08:30.896744Z"
    }
   },
   "outputs": [],
   "source": [
    "# filtering by year starting 2000\n",
    "is_2000_or_foward = summary_data['title_year'] >= 2000\n",
    "summary_data = summary_data[is_2000_or_foward]"
   ]
  },
  {
   "cell_type": "code",
   "execution_count": 18,
   "id": "f1f3cef2",
   "metadata": {
    "ExecuteTime": {
     "end_time": "2022-02-11T15:08:30.911544Z",
     "start_time": "2022-02-11T15:08:30.906368Z"
    }
   },
   "outputs": [],
   "source": [
    "# the YYYY format.\n",
    "summary_data['title_year'] = summary_data['title_year'].astype(int)"
   ]
  },
  {
   "cell_type": "code",
   "execution_count": 21,
   "id": "8e410404",
   "metadata": {
    "ExecuteTime": {
     "end_time": "2022-02-11T15:09:03.365212Z",
     "start_time": "2022-02-11T15:09:03.352630Z"
    }
   },
   "outputs": [
    {
     "data": {
      "text/html": [
       "<div>\n",
       "<style scoped>\n",
       "    .dataframe tbody tr th:only-of-type {\n",
       "        vertical-align: middle;\n",
       "    }\n",
       "\n",
       "    .dataframe tbody tr th {\n",
       "        vertical-align: top;\n",
       "    }\n",
       "\n",
       "    .dataframe thead th {\n",
       "        text-align: right;\n",
       "    }\n",
       "</style>\n",
       "<table border=\"1\" class=\"dataframe\">\n",
       "  <thead>\n",
       "    <tr style=\"text-align: right;\">\n",
       "      <th></th>\n",
       "      <th>year</th>\n",
       "      <th>&lt;90</th>\n",
       "      <th>90–120</th>\n",
       "      <th>&gt;120</th>\n",
       "    </tr>\n",
       "  </thead>\n",
       "  <tbody>\n",
       "    <tr>\n",
       "      <th>0</th>\n",
       "      <td>2009</td>\n",
       "      <td>0</td>\n",
       "      <td>0</td>\n",
       "      <td>1</td>\n",
       "    </tr>\n",
       "    <tr>\n",
       "      <th>1</th>\n",
       "      <td>2007</td>\n",
       "      <td>0</td>\n",
       "      <td>0</td>\n",
       "      <td>1</td>\n",
       "    </tr>\n",
       "    <tr>\n",
       "      <th>2</th>\n",
       "      <td>2015</td>\n",
       "      <td>0</td>\n",
       "      <td>0</td>\n",
       "      <td>1</td>\n",
       "    </tr>\n",
       "    <tr>\n",
       "      <th>3</th>\n",
       "      <td>2012</td>\n",
       "      <td>0</td>\n",
       "      <td>0</td>\n",
       "      <td>1</td>\n",
       "    </tr>\n",
       "    <tr>\n",
       "      <th>5</th>\n",
       "      <td>2012</td>\n",
       "      <td>0</td>\n",
       "      <td>0</td>\n",
       "      <td>1</td>\n",
       "    </tr>\n",
       "  </tbody>\n",
       "</table>\n",
       "</div>"
      ],
      "text/plain": [
       "   year  <90  90–120  >120\n",
       "0  2009    0       0     1\n",
       "1  2007    0       0     1\n",
       "2  2015    0       0     1\n",
       "3  2012    0       0     1\n",
       "5  2012    0       0     1"
      ]
     },
     "execution_count": 21,
     "metadata": {},
     "output_type": "execute_result"
    }
   ],
   "source": [
    "#rename the columns \n",
    "summary_data.rename(columns={'title_year':'year','1. <90':'<90','2. 90–120':'90–120','3. >120':'>120'},inplace = True)\n",
    "summary_data.head()"
   ]
  },
  {
   "cell_type": "code",
   "execution_count": 22,
   "id": "343b48f5",
   "metadata": {
    "ExecuteTime": {
     "end_time": "2022-02-11T15:09:23.505761Z",
     "start_time": "2022-02-11T15:09:23.480782Z"
    }
   },
   "outputs": [
    {
     "data": {
      "text/html": [
       "<div>\n",
       "<style scoped>\n",
       "    .dataframe tbody tr th:only-of-type {\n",
       "        vertical-align: middle;\n",
       "    }\n",
       "\n",
       "    .dataframe tbody tr th {\n",
       "        vertical-align: top;\n",
       "    }\n",
       "\n",
       "    .dataframe thead th {\n",
       "        text-align: right;\n",
       "    }\n",
       "</style>\n",
       "<table border=\"1\" class=\"dataframe\">\n",
       "  <thead>\n",
       "    <tr style=\"text-align: right;\">\n",
       "      <th></th>\n",
       "      <th>&lt;90</th>\n",
       "      <th>90–120</th>\n",
       "      <th>&gt;120</th>\n",
       "    </tr>\n",
       "    <tr>\n",
       "      <th>year</th>\n",
       "      <th></th>\n",
       "      <th></th>\n",
       "      <th></th>\n",
       "    </tr>\n",
       "  </thead>\n",
       "  <tbody>\n",
       "    <tr>\n",
       "      <th>2000</th>\n",
       "      <td>25</td>\n",
       "      <td>112</td>\n",
       "      <td>34</td>\n",
       "    </tr>\n",
       "    <tr>\n",
       "      <th>2001</th>\n",
       "      <td>29</td>\n",
       "      <td>120</td>\n",
       "      <td>39</td>\n",
       "    </tr>\n",
       "    <tr>\n",
       "      <th>2002</th>\n",
       "      <td>36</td>\n",
       "      <td>146</td>\n",
       "      <td>27</td>\n",
       "    </tr>\n",
       "    <tr>\n",
       "      <th>2003</th>\n",
       "      <td>31</td>\n",
       "      <td>108</td>\n",
       "      <td>30</td>\n",
       "    </tr>\n",
       "    <tr>\n",
       "      <th>2004</th>\n",
       "      <td>30</td>\n",
       "      <td>142</td>\n",
       "      <td>42</td>\n",
       "    </tr>\n",
       "    <tr>\n",
       "      <th>2005</th>\n",
       "      <td>31</td>\n",
       "      <td>142</td>\n",
       "      <td>48</td>\n",
       "    </tr>\n",
       "    <tr>\n",
       "      <th>2006</th>\n",
       "      <td>40</td>\n",
       "      <td>146</td>\n",
       "      <td>53</td>\n",
       "    </tr>\n",
       "    <tr>\n",
       "      <th>2007</th>\n",
       "      <td>31</td>\n",
       "      <td>130</td>\n",
       "      <td>43</td>\n",
       "    </tr>\n",
       "    <tr>\n",
       "      <th>2008</th>\n",
       "      <td>29</td>\n",
       "      <td>160</td>\n",
       "      <td>36</td>\n",
       "    </tr>\n",
       "    <tr>\n",
       "      <th>2009</th>\n",
       "      <td>42</td>\n",
       "      <td>178</td>\n",
       "      <td>40</td>\n",
       "    </tr>\n",
       "    <tr>\n",
       "      <th>2010</th>\n",
       "      <td>26</td>\n",
       "      <td>171</td>\n",
       "      <td>33</td>\n",
       "    </tr>\n",
       "    <tr>\n",
       "      <th>2011</th>\n",
       "      <td>36</td>\n",
       "      <td>150</td>\n",
       "      <td>39</td>\n",
       "    </tr>\n",
       "    <tr>\n",
       "      <th>2012</th>\n",
       "      <td>41</td>\n",
       "      <td>139</td>\n",
       "      <td>41</td>\n",
       "    </tr>\n",
       "    <tr>\n",
       "      <th>2013</th>\n",
       "      <td>38</td>\n",
       "      <td>145</td>\n",
       "      <td>54</td>\n",
       "    </tr>\n",
       "    <tr>\n",
       "      <th>2014</th>\n",
       "      <td>36</td>\n",
       "      <td>171</td>\n",
       "      <td>45</td>\n",
       "    </tr>\n",
       "    <tr>\n",
       "      <th>2015</th>\n",
       "      <td>34</td>\n",
       "      <td>145</td>\n",
       "      <td>47</td>\n",
       "    </tr>\n",
       "    <tr>\n",
       "      <th>2016</th>\n",
       "      <td>8</td>\n",
       "      <td>79</td>\n",
       "      <td>19</td>\n",
       "    </tr>\n",
       "  </tbody>\n",
       "</table>\n",
       "</div>"
      ],
      "text/plain": [
       "      <90  90–120  >120\n",
       "year                   \n",
       "2000   25     112    34\n",
       "2001   29     120    39\n",
       "2002   36     146    27\n",
       "2003   31     108    30\n",
       "2004   30     142    42\n",
       "2005   31     142    48\n",
       "2006   40     146    53\n",
       "2007   31     130    43\n",
       "2008   29     160    36\n",
       "2009   42     178    40\n",
       "2010   26     171    33\n",
       "2011   36     150    39\n",
       "2012   41     139    41\n",
       "2013   38     145    54\n",
       "2014   36     171    45\n",
       "2015   34     145    47\n",
       "2016    8      79    19"
      ]
     },
     "execution_count": 22,
     "metadata": {},
     "output_type": "execute_result"
    }
   ],
   "source": [
    "#sumary construtrion\n",
    "summary = summary_data.groupby(by = 'year').sum()\n",
    "summary"
   ]
  },
  {
   "cell_type": "markdown",
   "id": "ad693b0b",
   "metadata": {},
   "source": [
    "### 1.7. How many films between 90 minutes and two hours long were released in 2008?"
   ]
  },
  {
   "cell_type": "code",
   "execution_count": null,
   "id": "f6427d6a",
   "metadata": {
    "ExecuteTime": {
     "end_time": "2022-02-11T15:08:30.944791Z",
     "start_time": "2022-02-11T15:08:30.944674Z"
    }
   },
   "outputs": [],
   "source": [
    "films_2008_cat2 = summary.loc[2008,'90–120']\n",
    "print(\"{} films were released in 2008 with duration between 90 minutes and two hours\".format(films_2008_cat2))"
   ]
  },
  {
   "cell_type": "markdown",
   "id": "87f0ad27",
   "metadata": {},
   "source": [
    "### 1.8. The plot_keywords column holds keywords characterizing the film's plot. Using the data in this column, create a column called movie_plot_category, to contain four categories\n",
    "depending on the key words in the column:\n",
    "- Category \"love_and_death\" if the keywords include both \"love\" and \"death\"\n",
    "- Category \"love\" if the keywords include the word \"love\"\n",
    "- Category \"death\" if the keywords include the word \"death\"\n",
    "- Category \"other\" if the keywords do not meet the conditions above"
   ]
  },
  {
   "cell_type": "code",
   "execution_count": 48,
   "id": "23677d2b",
   "metadata": {
    "ExecuteTime": {
     "end_time": "2022-02-11T16:23:03.072322Z",
     "start_time": "2022-02-11T16:23:03.065981Z"
    }
   },
   "outputs": [],
   "source": [
    "def categorize_plot(film_plots:str)->str:\n",
    "    '''Parameters: film_plots->string, keywords characterizing the film's plot who is separare by |'''\n",
    "    try:\n",
    "        keywords = film_plots.split('|')\n",
    "        is_love = ('love' in keywords)\n",
    "        is_death = ('death' in keywords)\n",
    "        is_love_and_death = (is_love and is_death)\n",
    "        is_other = not (is_love or is_death)\n",
    "\n",
    "        if is_other:\n",
    "            category = \"other\" \n",
    "        elif is_love_and_death:\n",
    "             category = \"love_and_death\"\n",
    "        elif is_love:\n",
    "            category = \"love\"\n",
    "        else:\n",
    "            category = \"death\"\n",
    "    \n",
    "    except AttributeError:\n",
    "        category = \"other\" \n",
    "        \n",
    "    return category  "
   ]
  },
  {
   "cell_type": "code",
   "execution_count": 49,
   "id": "4533244c",
   "metadata": {
    "ExecuteTime": {
     "end_time": "2022-02-11T16:23:05.107643Z",
     "start_time": "2022-02-11T16:23:05.089444Z"
    }
   },
   "outputs": [
    {
     "data": {
      "text/html": [
       "<div>\n",
       "<style scoped>\n",
       "    .dataframe tbody tr th:only-of-type {\n",
       "        vertical-align: middle;\n",
       "    }\n",
       "\n",
       "    .dataframe tbody tr th {\n",
       "        vertical-align: top;\n",
       "    }\n",
       "\n",
       "    .dataframe thead th {\n",
       "        text-align: right;\n",
       "    }\n",
       "</style>\n",
       "<table border=\"1\" class=\"dataframe\">\n",
       "  <thead>\n",
       "    <tr style=\"text-align: right;\">\n",
       "      <th></th>\n",
       "      <th>movie_plot_category</th>\n",
       "    </tr>\n",
       "  </thead>\n",
       "  <tbody>\n",
       "    <tr>\n",
       "      <th>0</th>\n",
       "      <td>other</td>\n",
       "    </tr>\n",
       "    <tr>\n",
       "      <th>1</th>\n",
       "      <td>other</td>\n",
       "    </tr>\n",
       "    <tr>\n",
       "      <th>2</th>\n",
       "      <td>other</td>\n",
       "    </tr>\n",
       "    <tr>\n",
       "      <th>3</th>\n",
       "      <td>other</td>\n",
       "    </tr>\n",
       "    <tr>\n",
       "      <th>4</th>\n",
       "      <td>other</td>\n",
       "    </tr>\n",
       "  </tbody>\n",
       "</table>\n",
       "</div>"
      ],
      "text/plain": [
       "  movie_plot_category\n",
       "0               other\n",
       "1               other\n",
       "2               other\n",
       "3               other\n",
       "4               other"
      ]
     },
     "execution_count": 49,
     "metadata": {},
     "output_type": "execute_result"
    }
   ],
   "source": [
    "data['movie_plot_category'] = data['plot_keywords'].apply(categorize_plot)\n",
    "data['movie_plot_category'].to_frame().head()"
   ]
  },
  {
   "cell_type": "markdown",
   "id": "64e23e2b",
   "metadata": {},
   "source": [
    "### 1.9. The imdb_score column shows a viewer rating for the film. Build a table to reflect the average rating of films depending on which movie_plot_category category they belong to."
   ]
  },
  {
   "cell_type": "code",
   "execution_count": 57,
   "id": "cf2a7ee6",
   "metadata": {
    "ExecuteTime": {
     "end_time": "2022-02-11T16:53:15.541912Z",
     "start_time": "2022-02-11T16:53:15.526990Z"
    }
   },
   "outputs": [
    {
     "data": {
      "text/html": [
       "<div>\n",
       "<style scoped>\n",
       "    .dataframe tbody tr th:only-of-type {\n",
       "        vertical-align: middle;\n",
       "    }\n",
       "\n",
       "    .dataframe tbody tr th {\n",
       "        vertical-align: top;\n",
       "    }\n",
       "\n",
       "    .dataframe thead th {\n",
       "        text-align: right;\n",
       "    }\n",
       "</style>\n",
       "<table border=\"1\" class=\"dataframe\">\n",
       "  <thead>\n",
       "    <tr style=\"text-align: right;\">\n",
       "      <th></th>\n",
       "      <th>imdb_score</th>\n",
       "    </tr>\n",
       "    <tr>\n",
       "      <th>movie_plot_category</th>\n",
       "      <th></th>\n",
       "    </tr>\n",
       "  </thead>\n",
       "  <tbody>\n",
       "    <tr>\n",
       "      <th>death</th>\n",
       "      <td>6.508130</td>\n",
       "    </tr>\n",
       "    <tr>\n",
       "      <th>love</th>\n",
       "      <td>6.533862</td>\n",
       "    </tr>\n",
       "    <tr>\n",
       "      <th>love_and_death</th>\n",
       "      <td>6.677778</td>\n",
       "    </tr>\n",
       "    <tr>\n",
       "      <th>other</th>\n",
       "      <td>6.436298</td>\n",
       "    </tr>\n",
       "  </tbody>\n",
       "</table>\n",
       "</div>"
      ],
      "text/plain": [
       "                     imdb_score\n",
       "movie_plot_category            \n",
       "death                  6.508130\n",
       "love                   6.533862\n",
       "love_and_death         6.677778\n",
       "other                  6.436298"
      ]
     },
     "execution_count": 57,
     "metadata": {},
     "output_type": "execute_result"
    }
   ],
   "source": [
    "table_imdb = data.loc[:,['movie_plot_category','imdb_score']].groupby(by=['movie_plot_category']).agg({'imdb_score':np.mean})\n",
    "table_imdb"
   ]
  },
  {
   "cell_type": "markdown",
   "id": "3f03127e",
   "metadata": {},
   "source": [
    "### 1.10. What is the average rating of films in the \"love\" category? Give the answer as a floatingpoint"
   ]
  },
  {
   "cell_type": "code",
   "execution_count": 72,
   "id": "9d4214ce",
   "metadata": {
    "ExecuteTime": {
     "end_time": "2022-02-11T17:06:05.514787Z",
     "start_time": "2022-02-11T17:06:05.510337Z"
    }
   },
   "outputs": [],
   "source": [
    "category = \"love\"\n",
    "mean_rating = table_imdb.loc[category][0]\n",
    "mean_rating = round(mean_rating,2)"
   ]
  },
  {
   "cell_type": "code",
   "execution_count": 74,
   "id": "096ea5c4",
   "metadata": {
    "ExecuteTime": {
     "end_time": "2022-02-11T17:06:14.573627Z",
     "start_time": "2022-02-11T17:06:14.566017Z"
    }
   },
   "outputs": [
    {
     "name": "stdout",
     "output_type": "stream",
     "text": [
      "The average rating of film in the 'love' category is 6.53.\n"
     ]
    }
   ],
   "source": [
    "print(f\"The average rating of film in the 'love' category is {mean_rating}.\")"
   ]
  },
  {
   "cell_type": "markdown",
   "id": "93553c0c",
   "metadata": {},
   "source": [
    "### 1.11. The budget column contains the film's budget. What is the median budget for all the films listed? Give the answer as an integer."
   ]
  },
  {
   "cell_type": "code",
   "execution_count": 93,
   "id": "31450cc9",
   "metadata": {
    "ExecuteTime": {
     "end_time": "2022-02-11T17:19:32.527791Z",
     "start_time": "2022-02-11T17:19:32.520058Z"
    }
   },
   "outputs": [],
   "source": [
    "int_transform = lambda cash: float(cash[:-1])"
   ]
  },
  {
   "cell_type": "code",
   "execution_count": 97,
   "id": "4077502b",
   "metadata": {
    "ExecuteTime": {
     "end_time": "2022-02-11T17:20:54.170772Z",
     "start_time": "2022-02-11T17:20:54.155548Z"
    }
   },
   "outputs": [],
   "source": [
    "mean_budget = data['budget'].apply(int_transform).median()\n",
    "mean_budget = int(mean_budget)"
   ]
  },
  {
   "cell_type": "code",
   "execution_count": 99,
   "id": "567eb144",
   "metadata": {
    "ExecuteTime": {
     "end_time": "2022-02-11T17:21:28.944678Z",
     "start_time": "2022-02-11T17:21:28.938925Z"
    }
   },
   "outputs": [
    {
     "name": "stdout",
     "output_type": "stream",
     "text": [
      "The median budget for all the films is $15000000.\n"
     ]
    }
   ],
   "source": [
    "print(f\"The median budget for all the films is ${mean_budget}.\")"
   ]
  }
 ],
 "metadata": {
  "kernelspec": {
   "display_name": "Python 3 (ipykernel)",
   "language": "python",
   "name": "python3"
  },
  "language_info": {
   "codemirror_mode": {
    "name": "ipython",
    "version": 3
   },
   "file_extension": ".py",
   "mimetype": "text/x-python",
   "name": "python",
   "nbconvert_exporter": "python",
   "pygments_lexer": "ipython3",
   "version": "3.8.10"
  },
  "toc": {
   "base_numbering": 1,
   "nav_menu": {},
   "number_sections": true,
   "sideBar": true,
   "skip_h1_title": true,
   "title_cell": "Sumário",
   "title_sidebar": "Contents",
   "toc_cell": true,
   "toc_position": {},
   "toc_section_display": true,
   "toc_window_display": true
  },
  "varInspector": {
   "cols": {
    "lenName": 16,
    "lenType": 16,
    "lenVar": 40
   },
   "kernels_config": {
    "python": {
     "delete_cmd_postfix": "",
     "delete_cmd_prefix": "del ",
     "library": "var_list.py",
     "varRefreshCmd": "print(var_dic_list())"
    },
    "r": {
     "delete_cmd_postfix": ") ",
     "delete_cmd_prefix": "rm(",
     "library": "var_list.r",
     "varRefreshCmd": "cat(var_dic_list()) "
    }
   },
   "types_to_exclude": [
    "module",
    "function",
    "builtin_function_or_method",
    "instance",
    "_Feature"
   ],
   "window_display": false
  }
 },
 "nbformat": 4,
 "nbformat_minor": 5
}
