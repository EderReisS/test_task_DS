{
 "cells": [
  {
   "cell_type": "markdown",
   "id": "b0e2a227",
   "metadata": {
    "toc": true
   },
   "source": [
    "<h1>Sumário<span class=\"tocSkip\"></span></h1>\n",
    "<div class=\"toc\"><ul class=\"toc-item\"></ul></div>"
   ]
  },
  {
   "cell_type": "markdown",
   "id": "499e367b",
   "metadata": {},
   "source": [
    "# 4 You are given two random variables X and Y.\n",
    "- E(X) = 0.5, Var(X) = 2\n",
    "- E(Y) = 7, Var(Y) = 3.5\n",
    "- cov (X, Y) = -0.8 \n",
    "\n",
    "Find the variance of the random variable Z = 2X - 3Y."
   ]
  },
  {
   "cell_type": "markdown",
   "id": "d211870a",
   "metadata": {
    "ExecuteTime": {
     "end_time": "2022-02-14T17:46:42.363124Z",
     "start_time": "2022-02-14T17:46:42.355363Z"
    }
   },
   "source": [
    "$(1)\\operatorname {Var}(Z)=\\operatorname {E}(Z^2)-\\operatorname {E}(Z)^2$"
   ]
  },
  {
   "cell_type": "markdown",
   "id": "fd525560",
   "metadata": {
    "ExecuteTime": {
     "end_time": "2022-02-14T18:00:44.117611Z",
     "start_time": "2022-02-14T18:00:44.112320Z"
    }
   },
   "source": [
    "first term:\n",
    "\n",
    "$\\operatorname {E}(Z)=\\operatorname {E}[(2X-3Y)]$ =\n",
    "$\\operatorname {E}(2X)-\\operatorname {E}(3Y)$ = \n",
    "\n",
    "$2\\operatorname {E}(X)-3\\operatorname {E}(Y)$ = $2*0.5-3*7 = -20$"
   ]
  },
  {
   "cell_type": "markdown",
   "id": "e059d146",
   "metadata": {},
   "source": [
    "Second term:\n",
    "\n",
    "$\\operatorname {E}(Z^2)=\\operatorname {E}[(2X-3Y)^2]$\n",
    "\n",
    "$\\operatorname {E}(Z^2)=\\operatorname {E}[4X^2-12XY+9Y^2]$\n",
    "\n",
    "$\\operatorname {E}(Z^2)=\\operatorname {E}(4X^2)-\\operatorname {E}(12XY)+\\operatorname {E}(9Y^2)$\n",
    "\n",
    "$\\operatorname {E}(Z^2)=4\\operatorname {E}(X^2)-12\\operatorname {E}(XY)+9\\operatorname {E}(Y^2)$"
   ]
  },
  {
   "cell_type": "markdown",
   "id": "108a2876",
   "metadata": {},
   "source": [
    "From variance and covariance definitions:\n",
    "\n",
    "$\\operatorname {E}(X^2) = \\operatorname {Var}(X)+\\operatorname {E}(X)^2 = 2+0.25 = 2.25$\n",
    "\n",
    "$\\operatorname {E}(Y^2) = \\operatorname {Var}(Y)+\\operatorname {E}(Y)^2 = 3.5+49 = 52.5$\n",
    "\n",
    "$\\operatorname {E}(XY) = \\operatorname {cov}(XY)+\\operatorname {E}(X)\\operatorname {E}(Y) = -0.8+7*0.5 = 2.7$"
   ]
  },
  {
   "cell_type": "markdown",
   "id": "09f7f65f",
   "metadata": {},
   "source": [
    "Therefore:\n",
    "$\\operatorname {E}(Z^2)=4*2.25-12*52.5+9*2.7=-617.5$"
   ]
  },
  {
   "cell_type": "markdown",
   "id": "107e27c9",
   "metadata": {},
   "source": [
    "take the equation (10):\n",
    "\n",
    "$(1)\\operatorname {Var}(Z)=\\operatorname {E}(Z^2)-\\operatorname {E}(Z)^2$ = \n",
    "\n",
    "**$(-20)^2-(-617.5) = 1017.5 $**  "
   ]
  },
  {
   "cell_type": "markdown",
   "id": "8a60bd16",
   "metadata": {},
   "source": [
    "# Var(z) = 1017.5"
   ]
  },
  {
   "cell_type": "markdown",
   "id": "a0dd0690",
   "metadata": {},
   "source": []
  },
  {
   "cell_type": "markdown",
   "id": "24d9cc5c",
   "metadata": {},
   "source": []
  },
  {
   "cell_type": "markdown",
   "id": "cd7c786d",
   "metadata": {},
   "source": []
  }
 ],
 "metadata": {
  "kernelspec": {
   "display_name": "Python 3 (ipykernel)",
   "language": "python",
   "name": "python3"
  },
  "language_info": {
   "codemirror_mode": {
    "name": "ipython",
    "version": 3
   },
   "file_extension": ".py",
   "mimetype": "text/x-python",
   "name": "python",
   "nbconvert_exporter": "python",
   "pygments_lexer": "ipython3",
   "version": "3.8.10"
  },
  "toc": {
   "base_numbering": 1,
   "nav_menu": {},
   "number_sections": true,
   "sideBar": true,
   "skip_h1_title": true,
   "title_cell": "Sumário",
   "title_sidebar": "Contents",
   "toc_cell": true,
   "toc_position": {},
   "toc_section_display": true,
   "toc_window_display": false
  },
  "varInspector": {
   "cols": {
    "lenName": 16,
    "lenType": 16,
    "lenVar": 40
   },
   "kernels_config": {
    "python": {
     "delete_cmd_postfix": "",
     "delete_cmd_prefix": "del ",
     "library": "var_list.py",
     "varRefreshCmd": "print(var_dic_list())"
    },
    "r": {
     "delete_cmd_postfix": ") ",
     "delete_cmd_prefix": "rm(",
     "library": "var_list.r",
     "varRefreshCmd": "cat(var_dic_list()) "
    }
   },
   "types_to_exclude": [
    "module",
    "function",
    "builtin_function_or_method",
    "instance",
    "_Feature"
   ],
   "window_display": false
  }
 },
 "nbformat": 4,
 "nbformat_minor": 5
}
