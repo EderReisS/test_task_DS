{
 "cells": [
  {
   "cell_type": "markdown",
   "id": "855b56cd",
   "metadata": {
    "toc": true
   },
   "source": [
    "<h1>Sumário<span class=\"tocSkip\"></span></h1>\n",
    "<div class=\"toc\"><ul class=\"toc-item\"><li><span><a href=\"#Task-3.-Answering-student-questions\" data-toc-modified-id=\"Task-3.-Answering-student-questions-1\"><span class=\"toc-item-num\">1&nbsp;&nbsp;</span>Task 3. Answering student questions</a></span></li></ul></div>"
   ]
  },
  {
   "cell_type": "markdown",
   "id": "683c7604",
   "metadata": {},
   "source": [
    "## Task 3. Answering student questions"
   ]
  },
  {
   "cell_type": "markdown",
   "id": "e609e056",
   "metadata": {},
   "source": [
    "Two-dimensional, size changeable and potentially heterogeneous tabular data structure with labeled axes (rows and columns). Arithmetic operations are aligned on row and column labels. It can be thought of as a dictation-type container for series objects. The main data structure of pandas.\n",
    "\n",
    "So the series is the data structure for a single column of aDataFrame , not just conceptually but literally, i.e. the data in the DataFrame is actually stored in memory as a collection of Series"
   ]
  },
  {
   "cell_type": "markdown",
   "id": "bf67a3a0",
   "metadata": {},
   "source": [
    "Time : 17 minutes"
   ]
  }
 ],
 "metadata": {
  "kernelspec": {
   "display_name": "Python 3 (ipykernel)",
   "language": "python",
   "name": "python3"
  },
  "language_info": {
   "codemirror_mode": {
    "name": "ipython",
    "version": 3
   },
   "file_extension": ".py",
   "mimetype": "text/x-python",
   "name": "python",
   "nbconvert_exporter": "python",
   "pygments_lexer": "ipython3",
   "version": "3.8.10"
  },
  "toc": {
   "base_numbering": 1,
   "nav_menu": {},
   "number_sections": true,
   "sideBar": true,
   "skip_h1_title": true,
   "title_cell": "Sumário",
   "title_sidebar": "Contents",
   "toc_cell": true,
   "toc_position": {},
   "toc_section_display": true,
   "toc_window_display": false
  },
  "varInspector": {
   "cols": {
    "lenName": 16,
    "lenType": 16,
    "lenVar": 40
   },
   "kernels_config": {
    "python": {
     "delete_cmd_postfix": "",
     "delete_cmd_prefix": "del ",
     "library": "var_list.py",
     "varRefreshCmd": "print(var_dic_list())"
    },
    "r": {
     "delete_cmd_postfix": ") ",
     "delete_cmd_prefix": "rm(",
     "library": "var_list.r",
     "varRefreshCmd": "cat(var_dic_list()) "
    }
   },
   "types_to_exclude": [
    "module",
    "function",
    "builtin_function_or_method",
    "instance",
    "_Feature"
   ],
   "window_display": false
  }
 },
 "nbformat": 4,
 "nbformat_minor": 5
}
