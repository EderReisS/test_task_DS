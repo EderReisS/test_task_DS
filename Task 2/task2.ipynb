{
 "cells": [
  {
   "cell_type": "markdown",
   "id": "89d3bc9a",
   "metadata": {
    "toc": true
   },
   "source": [
    "<h1>Sumário<span class=\"tocSkip\"></span></h1>\n",
    "<div class=\"toc\"><ul class=\"toc-item\"><li><span><a href=\"#Task-2\" data-toc-modified-id=\"Task-2-1\"><span class=\"toc-item-num\">1&nbsp;&nbsp;</span>Task 2</a></span><ul class=\"toc-item\"><li><span><a href=\"#1.-Download-the-event_data.csv-dataset,-which-contains-data-on-the-use-of-the-mobile-application-of-users-who-registered-from-July-29-to-September-1,-2019:\" data-toc-modified-id=\"1.-Download-the-event_data.csv-dataset,-which-contains-data-on-the-use-of-the-mobile-application-of-users-who-registered-from-July-29-to-September-1,-2019:-1.1\"><span class=\"toc-item-num\">1.1&nbsp;&nbsp;</span>1. Download the event_data.csv dataset, which contains data on the use of the mobile application of users who registered from July 29 to September 1, 2019:</a></span></li><li><span><a href=\"#2.-Highlight-user-cohorts-based-on-the-week-of-registration-in-the-application.-The-cohort-identifier-should-be-the-week-ordinal-(for-example,-the-week-from-July-29-to-August-4-should-have-identifier-31).\" data-toc-modified-id=\"2.-Highlight-user-cohorts-based-on-the-week-of-registration-in-the-application.-The-cohort-identifier-should-be-the-week-ordinal-(for-example,-the-week-from-July-29-to-August-4-should-have-identifier-31).-1.2\"><span class=\"toc-item-num\">1.2&nbsp;&nbsp;</span>2. Highlight user cohorts based on the week of registration in the application. The cohort identifier should be the week ordinal (for example, the week from July 29 to August 4 should have identifier 31).</a></span></li><li><span><a href=\"#3.-How-many-unique-users-in-the-cohort-with-ID-33?\" data-toc-modified-id=\"3.-How-many-unique-users-in-the-cohort-with-ID-33?-1.3\"><span class=\"toc-item-num\">1.3&nbsp;&nbsp;</span>3. How many unique users in the cohort with ID 33?</a></span></li><li><span><a href=\"#4.-For-each-event,-highlight-the-indicator-lifetime---the-weekly-lifetime-of-the-cohort.\" data-toc-modified-id=\"4.-For-each-event,-highlight-the-indicator-lifetime---the-weekly-lifetime-of-the-cohort.-1.4\"><span class=\"toc-item-num\">1.4&nbsp;&nbsp;</span>4. For each event, highlight the indicator lifetime - the weekly lifetime of the cohort.</a></span></li><li><span><a href=\"#5.-Build-a-summary-table-of-changes-in-the-Retention-Rate-for-cohorts-depending-on-lifetime.\" data-toc-modified-id=\"5.-Build-a-summary-table-of-changes-in-the-Retention-Rate-for-cohorts-depending-on-lifetime.-1.5\"><span class=\"toc-item-num\">1.5&nbsp;&nbsp;</span>5. Build a summary table of changes in the Retention Rate for cohorts depending on lifetime.</a></span></li><li><span><a href=\"#6.-What-is-the-3-week-retention-rate-for-a-cohort-with-ID-32?-Give-the-answer-in-percent,-rounded-to-2-decimal-places,-inclusive.\" data-toc-modified-id=\"6.-What-is-the-3-week-retention-rate-for-a-cohort-with-ID-32?-Give-the-answer-in-percent,-rounded-to-2-decimal-places,-inclusive.-1.6\"><span class=\"toc-item-num\">1.6&nbsp;&nbsp;</span>6. What is the 3 week retention rate for a cohort with ID 32? Give the answer in percent, rounded to 2 decimal places, inclusive.</a></span></li><li><span><a href=\"#7.-Build-a-summary-table-of-changes-in-the-indicator-ARPPU-(Average-Revenue-Per-Paying-User)-for-cohorts-depending-on-lifetime.\" data-toc-modified-id=\"7.-Build-a-summary-table-of-changes-in-the-indicator-ARPPU-(Average-Revenue-Per-Paying-User)-for-cohorts-depending-on-lifetime.-1.7\"><span class=\"toc-item-num\">1.7&nbsp;&nbsp;</span>7. Build a summary table of changes in the indicator ARPPU (Average Revenue Per Paying User) for cohorts depending on lifetime.</a></span></li><li><span><a href=\"#8.-What-is-the-3-week-ARPPU-of-a-cohort-with-ID-31?-Give-the-answer-with-a-floating-point-number,-rounded-to-2-decimal-places,-inclusive.\" data-toc-modified-id=\"8.-What-is-the-3-week-ARPPU-of-a-cohort-with-ID-31?-Give-the-answer-with-a-floating-point-number,-rounded-to-2-decimal-places,-inclusive.-1.8\"><span class=\"toc-item-num\">1.8&nbsp;&nbsp;</span>8. What is the 3-week ARPPU of a cohort with ID 31? Give the answer with a floating point number, rounded to 2 decimal places, inclusive.</a></span></li><li><span><a href=\"#9.-What-is-the-median-time-between-user-registration-and-first-purchase?-Give-the-answer-in-seconds-(!)-As-an-integer.\" data-toc-modified-id=\"9.-What-is-the-median-time-between-user-registration-and-first-purchase?-Give-the-answer-in-seconds-(!)-As-an-integer.-1.9\"><span class=\"toc-item-num\">1.9&nbsp;&nbsp;</span>9. What is the median time between user registration and first purchase? Give the answer in seconds (!) As an integer.</a></span></li></ul></li></ul></div>"
   ]
  },
  {
   "cell_type": "markdown",
   "id": "1a069110",
   "metadata": {},
   "source": [
    "## Task 2"
   ]
  },
  {
   "cell_type": "code",
   "execution_count": 1,
   "id": "3d70a43a",
   "metadata": {
    "ExecuteTime": {
     "end_time": "2022-02-13T21:11:28.164460Z",
     "start_time": "2022-02-13T21:11:27.516041Z"
    }
   },
   "outputs": [],
   "source": [
    "import pandas as pd\n",
    "import numpy as np\n",
    "import datetime as dt"
   ]
  },
  {
   "cell_type": "markdown",
   "id": "8f1128ad",
   "metadata": {},
   "source": [
    "### 1. Download the event_data.csv dataset, which contains data on the use of the mobile application of users who registered from July 29 to September 1, 2019:\n",
    "- user_id - user identifier;\n",
    "- event_date - time of the event;\n",
    "- event_type - type of event: registration - registration in the application,  simple_event click event in the application; \n",
    "- purchase - an event of purchase within the application;\n",
    "- purchase_amount - purchase amount."
   ]
  },
  {
   "cell_type": "code",
   "execution_count": 2,
   "id": "6d9115d0",
   "metadata": {
    "ExecuteTime": {
     "end_time": "2022-02-13T21:11:28.335723Z",
     "start_time": "2022-02-13T21:11:28.168361Z"
    }
   },
   "outputs": [],
   "source": [
    "data = pd.read_csv('event_data.csv', parse_dates=True, index_col='event_date')"
   ]
  },
  {
   "cell_type": "code",
   "execution_count": 3,
   "id": "e836a53d",
   "metadata": {
    "ExecuteTime": {
     "end_time": "2022-02-13T21:11:28.373818Z",
     "start_time": "2022-02-13T21:11:28.337827Z"
    }
   },
   "outputs": [
    {
     "data": {
      "text/html": [
       "<div>\n",
       "<style scoped>\n",
       "    .dataframe tbody tr th:only-of-type {\n",
       "        vertical-align: middle;\n",
       "    }\n",
       "\n",
       "    .dataframe tbody tr th {\n",
       "        vertical-align: top;\n",
       "    }\n",
       "\n",
       "    .dataframe thead th {\n",
       "        text-align: right;\n",
       "    }\n",
       "</style>\n",
       "<table border=\"1\" class=\"dataframe\">\n",
       "  <thead>\n",
       "    <tr style=\"text-align: right;\">\n",
       "      <th></th>\n",
       "      <th>user_id</th>\n",
       "      <th>event_type</th>\n",
       "      <th>purchase_amount</th>\n",
       "    </tr>\n",
       "    <tr>\n",
       "      <th>event_date</th>\n",
       "      <th></th>\n",
       "      <th></th>\n",
       "      <th></th>\n",
       "    </tr>\n",
       "  </thead>\n",
       "  <tbody>\n",
       "    <tr>\n",
       "      <th>2019-07-29 00:02:15</th>\n",
       "      <td>c40e6a</td>\n",
       "      <td>registration</td>\n",
       "      <td>NaN</td>\n",
       "    </tr>\n",
       "    <tr>\n",
       "      <th>2019-07-29 00:04:46</th>\n",
       "      <td>a2b682</td>\n",
       "      <td>registration</td>\n",
       "      <td>NaN</td>\n",
       "    </tr>\n",
       "    <tr>\n",
       "      <th>2019-07-29 00:13:22</th>\n",
       "      <td>9ac888</td>\n",
       "      <td>registration</td>\n",
       "      <td>NaN</td>\n",
       "    </tr>\n",
       "    <tr>\n",
       "      <th>2019-07-29 00:16:47</th>\n",
       "      <td>93ff22</td>\n",
       "      <td>registration</td>\n",
       "      <td>NaN</td>\n",
       "    </tr>\n",
       "    <tr>\n",
       "      <th>2019-07-29 00:19:23</th>\n",
       "      <td>65ef85</td>\n",
       "      <td>registration</td>\n",
       "      <td>NaN</td>\n",
       "    </tr>\n",
       "  </tbody>\n",
       "</table>\n",
       "</div>"
      ],
      "text/plain": [
       "                    user_id    event_type  purchase_amount\n",
       "event_date                                                \n",
       "2019-07-29 00:02:15  c40e6a  registration              NaN\n",
       "2019-07-29 00:04:46  a2b682  registration              NaN\n",
       "2019-07-29 00:13:22  9ac888  registration              NaN\n",
       "2019-07-29 00:16:47  93ff22  registration              NaN\n",
       "2019-07-29 00:19:23  65ef85  registration              NaN"
      ]
     },
     "execution_count": 3,
     "metadata": {},
     "output_type": "execute_result"
    }
   ],
   "source": [
    "data.head()"
   ]
  },
  {
   "cell_type": "code",
   "execution_count": 4,
   "id": "dd7b9d80",
   "metadata": {
    "ExecuteTime": {
     "end_time": "2022-02-13T21:11:28.399136Z",
     "start_time": "2022-02-13T21:11:28.377963Z"
    }
   },
   "outputs": [
    {
     "data": {
      "text/html": [
       "<div>\n",
       "<style scoped>\n",
       "    .dataframe tbody tr th:only-of-type {\n",
       "        vertical-align: middle;\n",
       "    }\n",
       "\n",
       "    .dataframe tbody tr th {\n",
       "        vertical-align: top;\n",
       "    }\n",
       "\n",
       "    .dataframe thead th {\n",
       "        text-align: right;\n",
       "    }\n",
       "</style>\n",
       "<table border=\"1\" class=\"dataframe\">\n",
       "  <thead>\n",
       "    <tr style=\"text-align: right;\">\n",
       "      <th></th>\n",
       "      <th>user_id</th>\n",
       "      <th>event_type</th>\n",
       "      <th>purchase_amount</th>\n",
       "    </tr>\n",
       "    <tr>\n",
       "      <th>event_date</th>\n",
       "      <th></th>\n",
       "      <th></th>\n",
       "      <th></th>\n",
       "    </tr>\n",
       "  </thead>\n",
       "  <tbody>\n",
       "    <tr>\n",
       "      <th>2019-07-29 00:02:15</th>\n",
       "      <td>c40e6a</td>\n",
       "      <td>registration</td>\n",
       "      <td>NaN</td>\n",
       "    </tr>\n",
       "    <tr>\n",
       "      <th>2019-07-29 00:04:46</th>\n",
       "      <td>a2b682</td>\n",
       "      <td>registration</td>\n",
       "      <td>NaN</td>\n",
       "    </tr>\n",
       "    <tr>\n",
       "      <th>2019-07-29 00:13:22</th>\n",
       "      <td>9ac888</td>\n",
       "      <td>registration</td>\n",
       "      <td>NaN</td>\n",
       "    </tr>\n",
       "    <tr>\n",
       "      <th>2019-07-29 00:16:47</th>\n",
       "      <td>93ff22</td>\n",
       "      <td>registration</td>\n",
       "      <td>NaN</td>\n",
       "    </tr>\n",
       "    <tr>\n",
       "      <th>2019-07-29 00:19:23</th>\n",
       "      <td>65ef85</td>\n",
       "      <td>registration</td>\n",
       "      <td>NaN</td>\n",
       "    </tr>\n",
       "    <tr>\n",
       "      <th>...</th>\n",
       "      <td>...</td>\n",
       "      <td>...</td>\n",
       "      <td>...</td>\n",
       "    </tr>\n",
       "    <tr>\n",
       "      <th>2019-09-01 23:57:41</th>\n",
       "      <td>930c23</td>\n",
       "      <td>simple_event</td>\n",
       "      <td>NaN</td>\n",
       "    </tr>\n",
       "    <tr>\n",
       "      <th>2019-09-01 23:57:50</th>\n",
       "      <td>a84999</td>\n",
       "      <td>simple_event</td>\n",
       "      <td>NaN</td>\n",
       "    </tr>\n",
       "    <tr>\n",
       "      <th>2019-09-01 23:59:40</th>\n",
       "      <td>175e4d</td>\n",
       "      <td>simple_event</td>\n",
       "      <td>NaN</td>\n",
       "    </tr>\n",
       "    <tr>\n",
       "      <th>2019-09-01 23:59:51</th>\n",
       "      <td>1c2210</td>\n",
       "      <td>simple_event</td>\n",
       "      <td>NaN</td>\n",
       "    </tr>\n",
       "    <tr>\n",
       "      <th>2019-09-01 23:59:54</th>\n",
       "      <td>d799dc</td>\n",
       "      <td>simple_event</td>\n",
       "      <td>NaN</td>\n",
       "    </tr>\n",
       "  </tbody>\n",
       "</table>\n",
       "<p>79742 rows × 3 columns</p>\n",
       "</div>"
      ],
      "text/plain": [
       "                    user_id    event_type  purchase_amount\n",
       "event_date                                                \n",
       "2019-07-29 00:02:15  c40e6a  registration              NaN\n",
       "2019-07-29 00:04:46  a2b682  registration              NaN\n",
       "2019-07-29 00:13:22  9ac888  registration              NaN\n",
       "2019-07-29 00:16:47  93ff22  registration              NaN\n",
       "2019-07-29 00:19:23  65ef85  registration              NaN\n",
       "...                     ...           ...              ...\n",
       "2019-09-01 23:57:41  930c23  simple_event              NaN\n",
       "2019-09-01 23:57:50  a84999  simple_event              NaN\n",
       "2019-09-01 23:59:40  175e4d  simple_event              NaN\n",
       "2019-09-01 23:59:51  1c2210  simple_event              NaN\n",
       "2019-09-01 23:59:54  d799dc  simple_event              NaN\n",
       "\n",
       "[79742 rows x 3 columns]"
      ]
     },
     "execution_count": 4,
     "metadata": {},
     "output_type": "execute_result"
    }
   ],
   "source": [
    "data "
   ]
  },
  {
   "cell_type": "code",
   "execution_count": null,
   "id": "08e105ec",
   "metadata": {},
   "outputs": [],
   "source": []
  },
  {
   "cell_type": "code",
   "execution_count": null,
   "id": "d3ea11b6",
   "metadata": {},
   "outputs": [],
   "source": []
  },
  {
   "cell_type": "code",
   "execution_count": 5,
   "id": "d6dc7578",
   "metadata": {
    "ExecuteTime": {
     "end_time": "2022-02-13T21:11:28.461439Z",
     "start_time": "2022-02-13T21:11:28.403529Z"
    }
   },
   "outputs": [
    {
     "name": "stdout",
     "output_type": "stream",
     "text": [
      "<class 'pandas.core.frame.DataFrame'>\n",
      "DatetimeIndex: 79742 entries, 2019-07-29 00:02:15 to 2019-09-01 23:59:54\n",
      "Data columns (total 3 columns):\n",
      " #   Column           Non-Null Count  Dtype  \n",
      "---  ------           --------------  -----  \n",
      " 0   user_id          79742 non-null  object \n",
      " 1   event_type       79742 non-null  object \n",
      " 2   purchase_amount  6207 non-null   float64\n",
      "dtypes: float64(1), object(2)\n",
      "memory usage: 2.4+ MB\n"
     ]
    }
   ],
   "source": [
    "data.info()"
   ]
  },
  {
   "cell_type": "code",
   "execution_count": 6,
   "id": "2aa2b242",
   "metadata": {
    "ExecuteTime": {
     "end_time": "2022-02-13T21:11:28.476638Z",
     "start_time": "2022-02-13T21:11:28.466467Z"
    }
   },
   "outputs": [],
   "source": [
    "data_index = data.index"
   ]
  },
  {
   "cell_type": "markdown",
   "id": "31fd75d5",
   "metadata": {
    "ExecuteTime": {
     "end_time": "2022-02-12T16:30:24.552870Z",
     "start_time": "2022-02-12T16:30:24.543902Z"
    }
   },
   "source": [
    "### 2. Highlight user cohorts based on the week of registration in the application. The cohort identifier should be the week ordinal (for example, the week from July 29 to August 4 should have identifier 31)."
   ]
  },
  {
   "cell_type": "code",
   "execution_count": 7,
   "id": "2427f625",
   "metadata": {
    "ExecuteTime": {
     "end_time": "2022-02-13T21:11:28.511651Z",
     "start_time": "2022-02-13T21:11:28.482787Z"
    }
   },
   "outputs": [],
   "source": [
    "def get_week_registration(data):\n",
    "    mask = (data['event_type'] == 'registration')\n",
    "    df = data.loc[mask,['user_id']].copy()\n",
    "    \n",
    "    df['event_registration_week'] = df.index.strftime('%W')\n",
    "    df['event_registration_week'] = df['event_registration_week'].astype(\"int\")+1 #indentifier correction\n",
    "    \n",
    "    return df"
   ]
  },
  {
   "cell_type": "code",
   "execution_count": 8,
   "id": "bc763595",
   "metadata": {
    "ExecuteTime": {
     "end_time": "2022-02-13T21:11:28.678822Z",
     "start_time": "2022-02-13T21:11:28.517504Z"
    }
   },
   "outputs": [
    {
     "data": {
      "text/html": [
       "<div>\n",
       "<style scoped>\n",
       "    .dataframe tbody tr th:only-of-type {\n",
       "        vertical-align: middle;\n",
       "    }\n",
       "\n",
       "    .dataframe tbody tr th {\n",
       "        vertical-align: top;\n",
       "    }\n",
       "\n",
       "    .dataframe thead th {\n",
       "        text-align: right;\n",
       "    }\n",
       "</style>\n",
       "<table border=\"1\" class=\"dataframe\">\n",
       "  <thead>\n",
       "    <tr style=\"text-align: right;\">\n",
       "      <th></th>\n",
       "      <th>user_id</th>\n",
       "      <th>event_registration_week</th>\n",
       "    </tr>\n",
       "    <tr>\n",
       "      <th>event_date</th>\n",
       "      <th></th>\n",
       "      <th></th>\n",
       "    </tr>\n",
       "  </thead>\n",
       "  <tbody>\n",
       "    <tr>\n",
       "      <th>2019-07-29 00:02:15</th>\n",
       "      <td>c40e6a</td>\n",
       "      <td>31</td>\n",
       "    </tr>\n",
       "    <tr>\n",
       "      <th>2019-07-29 00:04:46</th>\n",
       "      <td>a2b682</td>\n",
       "      <td>31</td>\n",
       "    </tr>\n",
       "    <tr>\n",
       "      <th>2019-07-29 00:13:22</th>\n",
       "      <td>9ac888</td>\n",
       "      <td>31</td>\n",
       "    </tr>\n",
       "    <tr>\n",
       "      <th>2019-07-29 00:16:47</th>\n",
       "      <td>93ff22</td>\n",
       "      <td>31</td>\n",
       "    </tr>\n",
       "    <tr>\n",
       "      <th>2019-07-29 00:19:23</th>\n",
       "      <td>65ef85</td>\n",
       "      <td>31</td>\n",
       "    </tr>\n",
       "  </tbody>\n",
       "</table>\n",
       "</div>"
      ],
      "text/plain": [
       "                    user_id  event_registration_week\n",
       "event_date                                          \n",
       "2019-07-29 00:02:15  c40e6a                       31\n",
       "2019-07-29 00:04:46  a2b682                       31\n",
       "2019-07-29 00:13:22  9ac888                       31\n",
       "2019-07-29 00:16:47  93ff22                       31\n",
       "2019-07-29 00:19:23  65ef85                       31"
      ]
     },
     "execution_count": 8,
     "metadata": {},
     "output_type": "execute_result"
    }
   ],
   "source": [
    "week_registration_cohorts = get_week_registration(data)\n",
    "week_registration_cohorts.head()"
   ]
  },
  {
   "cell_type": "code",
   "execution_count": 9,
   "id": "30fcc95b",
   "metadata": {
    "ExecuteTime": {
     "end_time": "2022-02-13T21:11:28.729375Z",
     "start_time": "2022-02-13T21:11:28.683221Z"
    }
   },
   "outputs": [],
   "source": [
    "index_data = data.index\n",
    "data = data.merge(week_registration_cohorts,\n",
    "    how='left',\n",
    "    on='user_id'    \n",
    ")"
   ]
  },
  {
   "cell_type": "code",
   "execution_count": 10,
   "id": "5599b209",
   "metadata": {
    "ExecuteTime": {
     "end_time": "2022-02-13T21:11:28.748913Z",
     "start_time": "2022-02-13T21:11:28.737746Z"
    }
   },
   "outputs": [
    {
     "data": {
      "text/html": [
       "<div>\n",
       "<style scoped>\n",
       "    .dataframe tbody tr th:only-of-type {\n",
       "        vertical-align: middle;\n",
       "    }\n",
       "\n",
       "    .dataframe tbody tr th {\n",
       "        vertical-align: top;\n",
       "    }\n",
       "\n",
       "    .dataframe thead th {\n",
       "        text-align: right;\n",
       "    }\n",
       "</style>\n",
       "<table border=\"1\" class=\"dataframe\">\n",
       "  <thead>\n",
       "    <tr style=\"text-align: right;\">\n",
       "      <th></th>\n",
       "      <th>user_id</th>\n",
       "      <th>event_type</th>\n",
       "      <th>purchase_amount</th>\n",
       "      <th>event_registration_week</th>\n",
       "    </tr>\n",
       "  </thead>\n",
       "  <tbody>\n",
       "    <tr>\n",
       "      <th>0</th>\n",
       "      <td>c40e6a</td>\n",
       "      <td>registration</td>\n",
       "      <td>NaN</td>\n",
       "      <td>31</td>\n",
       "    </tr>\n",
       "    <tr>\n",
       "      <th>1</th>\n",
       "      <td>a2b682</td>\n",
       "      <td>registration</td>\n",
       "      <td>NaN</td>\n",
       "      <td>31</td>\n",
       "    </tr>\n",
       "    <tr>\n",
       "      <th>2</th>\n",
       "      <td>9ac888</td>\n",
       "      <td>registration</td>\n",
       "      <td>NaN</td>\n",
       "      <td>31</td>\n",
       "    </tr>\n",
       "    <tr>\n",
       "      <th>3</th>\n",
       "      <td>93ff22</td>\n",
       "      <td>registration</td>\n",
       "      <td>NaN</td>\n",
       "      <td>31</td>\n",
       "    </tr>\n",
       "    <tr>\n",
       "      <th>4</th>\n",
       "      <td>65ef85</td>\n",
       "      <td>registration</td>\n",
       "      <td>NaN</td>\n",
       "      <td>31</td>\n",
       "    </tr>\n",
       "  </tbody>\n",
       "</table>\n",
       "</div>"
      ],
      "text/plain": [
       "  user_id    event_type  purchase_amount  event_registration_week\n",
       "0  c40e6a  registration              NaN                       31\n",
       "1  a2b682  registration              NaN                       31\n",
       "2  9ac888  registration              NaN                       31\n",
       "3  93ff22  registration              NaN                       31\n",
       "4  65ef85  registration              NaN                       31"
      ]
     },
     "execution_count": 10,
     "metadata": {},
     "output_type": "execute_result"
    }
   ],
   "source": [
    "data.head()"
   ]
  },
  {
   "cell_type": "code",
   "execution_count": 11,
   "id": "a86dedef",
   "metadata": {
    "ExecuteTime": {
     "end_time": "2022-02-13T21:11:28.760071Z",
     "start_time": "2022-02-13T21:11:28.752670Z"
    }
   },
   "outputs": [],
   "source": [
    "data.set_index(index_data, inplace =True)"
   ]
  },
  {
   "cell_type": "code",
   "execution_count": null,
   "id": "3ec8d2c1",
   "metadata": {
    "ExecuteTime": {
     "end_time": "2022-02-13T15:27:49.901430Z",
     "start_time": "2022-02-13T15:27:49.881548Z"
    }
   },
   "outputs": [],
   "source": []
  },
  {
   "cell_type": "markdown",
   "id": "9529ccbb",
   "metadata": {},
   "source": [
    "### 3. How many unique users in the cohort with ID 33?"
   ]
  },
  {
   "cell_type": "code",
   "execution_count": 12,
   "id": "152de44d",
   "metadata": {
    "ExecuteTime": {
     "end_time": "2022-02-13T21:11:28.773086Z",
     "start_time": "2022-02-13T21:11:28.763658Z"
    }
   },
   "outputs": [],
   "source": [
    "unique_users=data.loc[data['event_registration_week']==33,'user_id'].unique()\n",
    "total_unique_users = len(unique_users)"
   ]
  },
  {
   "cell_type": "code",
   "execution_count": 13,
   "id": "c210b21c",
   "metadata": {
    "ExecuteTime": {
     "end_time": "2022-02-13T21:11:28.782160Z",
     "start_time": "2022-02-13T21:11:28.775838Z"
    }
   },
   "outputs": [
    {
     "name": "stdout",
     "output_type": "stream",
     "text": [
      "There are 2045 unique users.\n"
     ]
    }
   ],
   "source": [
    "print(\"There are {} unique users.\".format(total_unique_users))"
   ]
  },
  {
   "cell_type": "markdown",
   "id": "5e545cb8",
   "metadata": {},
   "source": [
    "### 4. For each event, highlight the indicator lifetime - the weekly lifetime of the cohort.\n",
    "The lifetime indicator is calculated based on the serial number of the week in which the event is committed, relative to the week of registration. For example, an event committed on August 3 by a user from a cohort of registrants at 31 weeks will be committed on the zero week of lifetime, and an event committed by the same user on August 5 will be committed on the first week of lifetime)."
   ]
  },
  {
   "cell_type": "code",
   "execution_count": 14,
   "id": "6ba143a7",
   "metadata": {
    "ExecuteTime": {
     "end_time": "2022-02-13T21:11:28.839181Z",
     "start_time": "2022-02-13T21:11:28.785602Z"
    }
   },
   "outputs": [],
   "source": [
    "def lifetime(data):\n",
    "    df = data.copy()\n",
    "    \n",
    "    df['event_week'] = df.index.strftime('%W')\n",
    "    df['event_week'] = df['event_week'].astype(\"int\")+1\n",
    "    \n",
    "    df['lifetime_cohort'] = df['event_week'] - df['event_registration_week']\n",
    "    \n",
    "    return df['lifetime_cohort']"
   ]
  },
  {
   "cell_type": "code",
   "execution_count": 15,
   "id": "84756899",
   "metadata": {
    "ExecuteTime": {
     "end_time": "2022-02-13T21:11:29.588744Z",
     "start_time": "2022-02-13T21:11:28.843182Z"
    }
   },
   "outputs": [],
   "source": [
    "data['lifetime_cohort'] = lifetime(data)"
   ]
  },
  {
   "cell_type": "code",
   "execution_count": 16,
   "id": "278e0a09",
   "metadata": {
    "ExecuteTime": {
     "end_time": "2022-02-13T21:11:29.615780Z",
     "start_time": "2022-02-13T21:11:29.591356Z"
    }
   },
   "outputs": [
    {
     "data": {
      "text/html": [
       "<div>\n",
       "<style scoped>\n",
       "    .dataframe tbody tr th:only-of-type {\n",
       "        vertical-align: middle;\n",
       "    }\n",
       "\n",
       "    .dataframe tbody tr th {\n",
       "        vertical-align: top;\n",
       "    }\n",
       "\n",
       "    .dataframe thead th {\n",
       "        text-align: right;\n",
       "    }\n",
       "</style>\n",
       "<table border=\"1\" class=\"dataframe\">\n",
       "  <thead>\n",
       "    <tr style=\"text-align: right;\">\n",
       "      <th></th>\n",
       "      <th>user_id</th>\n",
       "      <th>event_type</th>\n",
       "      <th>purchase_amount</th>\n",
       "      <th>event_registration_week</th>\n",
       "      <th>lifetime_cohort</th>\n",
       "    </tr>\n",
       "    <tr>\n",
       "      <th>event_date</th>\n",
       "      <th></th>\n",
       "      <th></th>\n",
       "      <th></th>\n",
       "      <th></th>\n",
       "      <th></th>\n",
       "    </tr>\n",
       "  </thead>\n",
       "  <tbody>\n",
       "    <tr>\n",
       "      <th>2019-07-29 00:02:15</th>\n",
       "      <td>c40e6a</td>\n",
       "      <td>registration</td>\n",
       "      <td>NaN</td>\n",
       "      <td>31</td>\n",
       "      <td>0</td>\n",
       "    </tr>\n",
       "    <tr>\n",
       "      <th>2019-07-29 00:04:46</th>\n",
       "      <td>a2b682</td>\n",
       "      <td>registration</td>\n",
       "      <td>NaN</td>\n",
       "      <td>31</td>\n",
       "      <td>0</td>\n",
       "    </tr>\n",
       "    <tr>\n",
       "      <th>2019-07-29 00:13:22</th>\n",
       "      <td>9ac888</td>\n",
       "      <td>registration</td>\n",
       "      <td>NaN</td>\n",
       "      <td>31</td>\n",
       "      <td>0</td>\n",
       "    </tr>\n",
       "    <tr>\n",
       "      <th>2019-07-29 00:16:47</th>\n",
       "      <td>93ff22</td>\n",
       "      <td>registration</td>\n",
       "      <td>NaN</td>\n",
       "      <td>31</td>\n",
       "      <td>0</td>\n",
       "    </tr>\n",
       "    <tr>\n",
       "      <th>2019-07-29 00:19:23</th>\n",
       "      <td>65ef85</td>\n",
       "      <td>registration</td>\n",
       "      <td>NaN</td>\n",
       "      <td>31</td>\n",
       "      <td>0</td>\n",
       "    </tr>\n",
       "  </tbody>\n",
       "</table>\n",
       "</div>"
      ],
      "text/plain": [
       "                    user_id    event_type  purchase_amount  \\\n",
       "event_date                                                   \n",
       "2019-07-29 00:02:15  c40e6a  registration              NaN   \n",
       "2019-07-29 00:04:46  a2b682  registration              NaN   \n",
       "2019-07-29 00:13:22  9ac888  registration              NaN   \n",
       "2019-07-29 00:16:47  93ff22  registration              NaN   \n",
       "2019-07-29 00:19:23  65ef85  registration              NaN   \n",
       "\n",
       "                     event_registration_week  lifetime_cohort  \n",
       "event_date                                                     \n",
       "2019-07-29 00:02:15                       31                0  \n",
       "2019-07-29 00:04:46                       31                0  \n",
       "2019-07-29 00:13:22                       31                0  \n",
       "2019-07-29 00:16:47                       31                0  \n",
       "2019-07-29 00:19:23                       31                0  "
      ]
     },
     "execution_count": 16,
     "metadata": {},
     "output_type": "execute_result"
    }
   ],
   "source": [
    "data.head()"
   ]
  },
  {
   "cell_type": "code",
   "execution_count": 18,
   "id": "014daa7a",
   "metadata": {
    "ExecuteTime": {
     "end_time": "2022-02-13T21:11:55.543154Z",
     "start_time": "2022-02-13T21:11:55.488560Z"
    }
   },
   "outputs": [],
   "source": [
    "cohorts = data.pivot_table(index = ['lifetime_cohort','event_registration_week'], \n",
    "                         aggfunc = {'user_id':'nunique'}) "
   ]
  },
  {
   "cell_type": "code",
   "execution_count": 19,
   "id": "33b32bfe",
   "metadata": {
    "ExecuteTime": {
     "end_time": "2022-02-13T21:12:00.762747Z",
     "start_time": "2022-02-13T21:12:00.752995Z"
    }
   },
   "outputs": [
    {
     "data": {
      "text/html": [
       "<div>\n",
       "<style scoped>\n",
       "    .dataframe tbody tr th:only-of-type {\n",
       "        vertical-align: middle;\n",
       "    }\n",
       "\n",
       "    .dataframe tbody tr th {\n",
       "        vertical-align: top;\n",
       "    }\n",
       "\n",
       "    .dataframe thead th {\n",
       "        text-align: right;\n",
       "    }\n",
       "</style>\n",
       "<table border=\"1\" class=\"dataframe\">\n",
       "  <thead>\n",
       "    <tr style=\"text-align: right;\">\n",
       "      <th></th>\n",
       "      <th></th>\n",
       "      <th>user_id</th>\n",
       "    </tr>\n",
       "    <tr>\n",
       "      <th>lifetime_cohort</th>\n",
       "      <th>event_registration_week</th>\n",
       "      <th></th>\n",
       "    </tr>\n",
       "  </thead>\n",
       "  <tbody>\n",
       "    <tr>\n",
       "      <th rowspan=\"5\" valign=\"top\">0</th>\n",
       "      <th>31</th>\n",
       "      <td>1975</td>\n",
       "    </tr>\n",
       "    <tr>\n",
       "      <th>32</th>\n",
       "      <td>1952</td>\n",
       "    </tr>\n",
       "    <tr>\n",
       "      <th>33</th>\n",
       "      <td>2045</td>\n",
       "    </tr>\n",
       "    <tr>\n",
       "      <th>34</th>\n",
       "      <td>1974</td>\n",
       "    </tr>\n",
       "    <tr>\n",
       "      <th>35</th>\n",
       "      <td>2050</td>\n",
       "    </tr>\n",
       "    <tr>\n",
       "      <th rowspan=\"4\" valign=\"top\">1</th>\n",
       "      <th>31</th>\n",
       "      <td>1832</td>\n",
       "    </tr>\n",
       "    <tr>\n",
       "      <th>32</th>\n",
       "      <td>1814</td>\n",
       "    </tr>\n",
       "    <tr>\n",
       "      <th>33</th>\n",
       "      <td>1890</td>\n",
       "    </tr>\n",
       "    <tr>\n",
       "      <th>34</th>\n",
       "      <td>1834</td>\n",
       "    </tr>\n",
       "    <tr>\n",
       "      <th rowspan=\"3\" valign=\"top\">2</th>\n",
       "      <th>31</th>\n",
       "      <td>1243</td>\n",
       "    </tr>\n",
       "    <tr>\n",
       "      <th>32</th>\n",
       "      <td>1265</td>\n",
       "    </tr>\n",
       "    <tr>\n",
       "      <th>33</th>\n",
       "      <td>1352</td>\n",
       "    </tr>\n",
       "    <tr>\n",
       "      <th rowspan=\"2\" valign=\"top\">3</th>\n",
       "      <th>31</th>\n",
       "      <td>705</td>\n",
       "    </tr>\n",
       "    <tr>\n",
       "      <th>32</th>\n",
       "      <td>705</td>\n",
       "    </tr>\n",
       "    <tr>\n",
       "      <th>4</th>\n",
       "      <th>31</th>\n",
       "      <td>297</td>\n",
       "    </tr>\n",
       "  </tbody>\n",
       "</table>\n",
       "</div>"
      ],
      "text/plain": [
       "                                         user_id\n",
       "lifetime_cohort event_registration_week         \n",
       "0               31                          1975\n",
       "                32                          1952\n",
       "                33                          2045\n",
       "                34                          1974\n",
       "                35                          2050\n",
       "1               31                          1832\n",
       "                32                          1814\n",
       "                33                          1890\n",
       "                34                          1834\n",
       "2               31                          1243\n",
       "                32                          1265\n",
       "                33                          1352\n",
       "3               31                           705\n",
       "                32                           705\n",
       "4               31                           297"
      ]
     },
     "execution_count": 19,
     "metadata": {},
     "output_type": "execute_result"
    }
   ],
   "source": [
    "cohorts"
   ]
  },
  {
   "cell_type": "markdown",
   "id": "2c87de01",
   "metadata": {},
   "source": [
    "### 5. Build a summary table of changes in the Retention Rate for cohorts depending on lifetime."
   ]
  },
  {
   "cell_type": "code",
   "execution_count": 20,
   "id": "30213f38",
   "metadata": {
    "ExecuteTime": {
     "end_time": "2022-02-13T21:26:54.153546Z",
     "start_time": "2022-02-13T21:26:54.142759Z"
    }
   },
   "outputs": [
    {
     "data": {
      "text/html": [
       "<div>\n",
       "<style scoped>\n",
       "    .dataframe tbody tr th:only-of-type {\n",
       "        vertical-align: middle;\n",
       "    }\n",
       "\n",
       "    .dataframe tbody tr th {\n",
       "        vertical-align: top;\n",
       "    }\n",
       "\n",
       "    .dataframe thead th {\n",
       "        text-align: right;\n",
       "    }\n",
       "</style>\n",
       "<table border=\"1\" class=\"dataframe\">\n",
       "  <thead>\n",
       "    <tr style=\"text-align: right;\">\n",
       "      <th></th>\n",
       "      <th>user_id</th>\n",
       "    </tr>\n",
       "    <tr>\n",
       "      <th>event_registration_week</th>\n",
       "      <th></th>\n",
       "    </tr>\n",
       "  </thead>\n",
       "  <tbody>\n",
       "    <tr>\n",
       "      <th>31</th>\n",
       "      <td>1975</td>\n",
       "    </tr>\n",
       "    <tr>\n",
       "      <th>32</th>\n",
       "      <td>1952</td>\n",
       "    </tr>\n",
       "    <tr>\n",
       "      <th>33</th>\n",
       "      <td>2045</td>\n",
       "    </tr>\n",
       "    <tr>\n",
       "      <th>34</th>\n",
       "      <td>1974</td>\n",
       "    </tr>\n",
       "    <tr>\n",
       "      <th>35</th>\n",
       "      <td>2050</td>\n",
       "    </tr>\n",
       "  </tbody>\n",
       "</table>\n",
       "</div>"
      ],
      "text/plain": [
       "                         user_id\n",
       "event_registration_week         \n",
       "31                          1975\n",
       "32                          1952\n",
       "33                          2045\n",
       "34                          1974\n",
       "35                          2050"
      ]
     },
     "execution_count": 20,
     "metadata": {},
     "output_type": "execute_result"
    }
   ],
   "source": [
    "initial_users_count = cohorts.loc[0,:]\n",
    "initial_users_count"
   ]
  },
  {
   "cell_type": "code",
   "execution_count": 23,
   "id": "93870c41",
   "metadata": {
    "ExecuteTime": {
     "end_time": "2022-02-13T21:33:30.186632Z",
     "start_time": "2022-02-13T21:33:30.169848Z"
    }
   },
   "outputs": [],
   "source": [
    "summary_data =(\n",
    "    cohorts\n",
    "    .reset_index()\n",
    "    .merge(\n",
    "        initial_users_count.reset_index(),\n",
    "        on='event_registration_week' \n",
    "    )\n",
    ")"
   ]
  },
  {
   "cell_type": "code",
   "execution_count": 25,
   "id": "e1b3ecf1",
   "metadata": {
    "ExecuteTime": {
     "end_time": "2022-02-13T21:35:04.354167Z",
     "start_time": "2022-02-13T21:35:04.342031Z"
    }
   },
   "outputs": [
    {
     "data": {
      "text/html": [
       "<div>\n",
       "<style scoped>\n",
       "    .dataframe tbody tr th:only-of-type {\n",
       "        vertical-align: middle;\n",
       "    }\n",
       "\n",
       "    .dataframe tbody tr th {\n",
       "        vertical-align: top;\n",
       "    }\n",
       "\n",
       "    .dataframe thead th {\n",
       "        text-align: right;\n",
       "    }\n",
       "</style>\n",
       "<table border=\"1\" class=\"dataframe\">\n",
       "  <thead>\n",
       "    <tr style=\"text-align: right;\">\n",
       "      <th></th>\n",
       "      <th>lifetime_cohort</th>\n",
       "      <th>event_registration_week</th>\n",
       "      <th>user_id_x</th>\n",
       "      <th>user_id_y</th>\n",
       "    </tr>\n",
       "  </thead>\n",
       "  <tbody>\n",
       "    <tr>\n",
       "      <th>0</th>\n",
       "      <td>0</td>\n",
       "      <td>31</td>\n",
       "      <td>1975</td>\n",
       "      <td>1975</td>\n",
       "    </tr>\n",
       "    <tr>\n",
       "      <th>1</th>\n",
       "      <td>1</td>\n",
       "      <td>31</td>\n",
       "      <td>1832</td>\n",
       "      <td>1975</td>\n",
       "    </tr>\n",
       "    <tr>\n",
       "      <th>2</th>\n",
       "      <td>2</td>\n",
       "      <td>31</td>\n",
       "      <td>1243</td>\n",
       "      <td>1975</td>\n",
       "    </tr>\n",
       "    <tr>\n",
       "      <th>3</th>\n",
       "      <td>3</td>\n",
       "      <td>31</td>\n",
       "      <td>705</td>\n",
       "      <td>1975</td>\n",
       "    </tr>\n",
       "    <tr>\n",
       "      <th>4</th>\n",
       "      <td>4</td>\n",
       "      <td>31</td>\n",
       "      <td>297</td>\n",
       "      <td>1975</td>\n",
       "    </tr>\n",
       "  </tbody>\n",
       "</table>\n",
       "</div>"
      ],
      "text/plain": [
       "   lifetime_cohort  event_registration_week  user_id_x  user_id_y\n",
       "0                0                       31       1975       1975\n",
       "1                1                       31       1832       1975\n",
       "2                2                       31       1243       1975\n",
       "3                3                       31        705       1975\n",
       "4                4                       31        297       1975"
      ]
     },
     "execution_count": 25,
     "metadata": {},
     "output_type": "execute_result"
    }
   ],
   "source": [
    "summary_data.head()"
   ]
  },
  {
   "cell_type": "code",
   "execution_count": 27,
   "id": "357e8c0e",
   "metadata": {
    "ExecuteTime": {
     "end_time": "2022-02-13T21:36:47.716643Z",
     "start_time": "2022-02-13T21:36:47.697378Z"
    }
   },
   "outputs": [
    {
     "data": {
      "text/html": [
       "<div>\n",
       "<style scoped>\n",
       "    .dataframe tbody tr th:only-of-type {\n",
       "        vertical-align: middle;\n",
       "    }\n",
       "\n",
       "    .dataframe tbody tr th {\n",
       "        vertical-align: top;\n",
       "    }\n",
       "\n",
       "    .dataframe thead th {\n",
       "        text-align: right;\n",
       "    }\n",
       "</style>\n",
       "<table border=\"1\" class=\"dataframe\">\n",
       "  <thead>\n",
       "    <tr style=\"text-align: right;\">\n",
       "      <th></th>\n",
       "      <th>lifetime_cohort</th>\n",
       "      <th>event_registration_week</th>\n",
       "      <th>user_id_x</th>\n",
       "      <th>user_id_y</th>\n",
       "      <th>Retention_Rate</th>\n",
       "    </tr>\n",
       "  </thead>\n",
       "  <tbody>\n",
       "    <tr>\n",
       "      <th>0</th>\n",
       "      <td>0</td>\n",
       "      <td>31</td>\n",
       "      <td>1975</td>\n",
       "      <td>1975</td>\n",
       "      <td>1.000000</td>\n",
       "    </tr>\n",
       "    <tr>\n",
       "      <th>1</th>\n",
       "      <td>1</td>\n",
       "      <td>31</td>\n",
       "      <td>1832</td>\n",
       "      <td>1975</td>\n",
       "      <td>0.927595</td>\n",
       "    </tr>\n",
       "    <tr>\n",
       "      <th>2</th>\n",
       "      <td>2</td>\n",
       "      <td>31</td>\n",
       "      <td>1243</td>\n",
       "      <td>1975</td>\n",
       "      <td>0.629367</td>\n",
       "    </tr>\n",
       "    <tr>\n",
       "      <th>3</th>\n",
       "      <td>3</td>\n",
       "      <td>31</td>\n",
       "      <td>705</td>\n",
       "      <td>1975</td>\n",
       "      <td>0.356962</td>\n",
       "    </tr>\n",
       "    <tr>\n",
       "      <th>4</th>\n",
       "      <td>4</td>\n",
       "      <td>31</td>\n",
       "      <td>297</td>\n",
       "      <td>1975</td>\n",
       "      <td>0.150380</td>\n",
       "    </tr>\n",
       "  </tbody>\n",
       "</table>\n",
       "</div>"
      ],
      "text/plain": [
       "   lifetime_cohort  event_registration_week  user_id_x  user_id_y  \\\n",
       "0                0                       31       1975       1975   \n",
       "1                1                       31       1832       1975   \n",
       "2                2                       31       1243       1975   \n",
       "3                3                       31        705       1975   \n",
       "4                4                       31        297       1975   \n",
       "\n",
       "   Retention_Rate  \n",
       "0        1.000000  \n",
       "1        0.927595  \n",
       "2        0.629367  \n",
       "3        0.356962  \n",
       "4        0.150380  "
      ]
     },
     "execution_count": 27,
     "metadata": {},
     "output_type": "execute_result"
    }
   ],
   "source": [
    "summary_data['Retention_Rate'] = summary_data.iloc[:,2]/summary_data.iloc[:,3]\n",
    "summary_data.head()"
   ]
  },
  {
   "cell_type": "code",
   "execution_count": 43,
   "id": "c3faad13",
   "metadata": {
    "ExecuteTime": {
     "end_time": "2022-02-13T21:48:41.587894Z",
     "start_time": "2022-02-13T21:48:41.565656Z"
    }
   },
   "outputs": [],
   "source": [
    "summary = summary_data.pivot_table(\n",
    "    index = ['event_registration_week'],\n",
    "    columns = ['lifetime_cohort'],\n",
    "    values = ['Retention_Rate']\n",
    ")"
   ]
  },
  {
   "cell_type": "code",
   "execution_count": 44,
   "id": "23dced95",
   "metadata": {
    "ExecuteTime": {
     "end_time": "2022-02-13T21:48:43.452065Z",
     "start_time": "2022-02-13T21:48:43.434527Z"
    }
   },
   "outputs": [
    {
     "data": {
      "text/html": [
       "<div>\n",
       "<style scoped>\n",
       "    .dataframe tbody tr th:only-of-type {\n",
       "        vertical-align: middle;\n",
       "    }\n",
       "\n",
       "    .dataframe tbody tr th {\n",
       "        vertical-align: top;\n",
       "    }\n",
       "\n",
       "    .dataframe thead tr th {\n",
       "        text-align: left;\n",
       "    }\n",
       "\n",
       "    .dataframe thead tr:last-of-type th {\n",
       "        text-align: right;\n",
       "    }\n",
       "</style>\n",
       "<table border=\"1\" class=\"dataframe\">\n",
       "  <thead>\n",
       "    <tr>\n",
       "      <th></th>\n",
       "      <th colspan=\"5\" halign=\"left\">Retention_Rate</th>\n",
       "    </tr>\n",
       "    <tr>\n",
       "      <th>lifetime_cohort</th>\n",
       "      <th>0</th>\n",
       "      <th>1</th>\n",
       "      <th>2</th>\n",
       "      <th>3</th>\n",
       "      <th>4</th>\n",
       "    </tr>\n",
       "    <tr>\n",
       "      <th>event_registration_week</th>\n",
       "      <th></th>\n",
       "      <th></th>\n",
       "      <th></th>\n",
       "      <th></th>\n",
       "      <th></th>\n",
       "    </tr>\n",
       "  </thead>\n",
       "  <tbody>\n",
       "    <tr>\n",
       "      <th>31</th>\n",
       "      <td>1.0</td>\n",
       "      <td>0.927595</td>\n",
       "      <td>0.629367</td>\n",
       "      <td>0.356962</td>\n",
       "      <td>0.15038</td>\n",
       "    </tr>\n",
       "    <tr>\n",
       "      <th>32</th>\n",
       "      <td>1.0</td>\n",
       "      <td>0.929303</td>\n",
       "      <td>0.648053</td>\n",
       "      <td>0.361168</td>\n",
       "      <td>NaN</td>\n",
       "    </tr>\n",
       "    <tr>\n",
       "      <th>33</th>\n",
       "      <td>1.0</td>\n",
       "      <td>0.924205</td>\n",
       "      <td>0.661125</td>\n",
       "      <td>NaN</td>\n",
       "      <td>NaN</td>\n",
       "    </tr>\n",
       "    <tr>\n",
       "      <th>34</th>\n",
       "      <td>1.0</td>\n",
       "      <td>0.929078</td>\n",
       "      <td>NaN</td>\n",
       "      <td>NaN</td>\n",
       "      <td>NaN</td>\n",
       "    </tr>\n",
       "    <tr>\n",
       "      <th>35</th>\n",
       "      <td>1.0</td>\n",
       "      <td>NaN</td>\n",
       "      <td>NaN</td>\n",
       "      <td>NaN</td>\n",
       "      <td>NaN</td>\n",
       "    </tr>\n",
       "  </tbody>\n",
       "</table>\n",
       "</div>"
      ],
      "text/plain": [
       "                        Retention_Rate                                       \n",
       "lifetime_cohort                      0         1         2         3        4\n",
       "event_registration_week                                                      \n",
       "31                                 1.0  0.927595  0.629367  0.356962  0.15038\n",
       "32                                 1.0  0.929303  0.648053  0.361168      NaN\n",
       "33                                 1.0  0.924205  0.661125       NaN      NaN\n",
       "34                                 1.0  0.929078       NaN       NaN      NaN\n",
       "35                                 1.0       NaN       NaN       NaN      NaN"
      ]
     },
     "execution_count": 44,
     "metadata": {},
     "output_type": "execute_result"
    }
   ],
   "source": [
    "summary"
   ]
  },
  {
   "cell_type": "markdown",
   "id": "e8280a95",
   "metadata": {},
   "source": [
    "### 6. What is the 3 week retention rate for a cohort with ID 32? Give the answer in percent, rounded to 2 decimal places, inclusive."
   ]
  },
  {
   "cell_type": "code",
   "execution_count": 49,
   "id": "2f072b65",
   "metadata": {
    "ExecuteTime": {
     "end_time": "2022-02-13T21:56:25.315710Z",
     "start_time": "2022-02-13T21:56:25.309196Z"
    }
   },
   "outputs": [],
   "source": [
    "rr = round(summary.loc[32,('Retention_Rate', 3)]*100,2)"
   ]
  },
  {
   "cell_type": "code",
   "execution_count": 50,
   "id": "9c5b4d74",
   "metadata": {
    "ExecuteTime": {
     "end_time": "2022-02-13T21:56:32.410231Z",
     "start_time": "2022-02-13T21:56:32.404560Z"
    }
   },
   "outputs": [
    {
     "name": "stdout",
     "output_type": "stream",
     "text": [
      "The retention rate for a cohort with ID at 3 week is 36.12%.\n"
     ]
    }
   ],
   "source": [
    "print(f\"The retention rate for a cohort with ID at 3 week is {rr}%.\")"
   ]
  },
  {
   "cell_type": "markdown",
   "id": "997cf0a3",
   "metadata": {},
   "source": [
    "### 7. Build a summary table of changes in the indicator ARPPU (Average Revenue Per Paying User) for cohorts depending on lifetime."
   ]
  },
  {
   "cell_type": "code",
   "execution_count": 52,
   "id": "52835988",
   "metadata": {
    "ExecuteTime": {
     "end_time": "2022-02-13T21:57:18.684737Z",
     "start_time": "2022-02-13T21:57:18.677081Z"
    }
   },
   "outputs": [
    {
     "data": {
      "text/plain": [
       "Index(['user_id', 'event_type', 'purchase_amount', 'event_registration_week',\n",
       "       'lifetime_cohort'],\n",
       "      dtype='object')"
      ]
     },
     "execution_count": 52,
     "metadata": {},
     "output_type": "execute_result"
    }
   ],
   "source": [
    "data.columns"
   ]
  },
  {
   "cell_type": "code",
   "execution_count": 57,
   "id": "33f6a0c8",
   "metadata": {
    "ExecuteTime": {
     "end_time": "2022-02-13T22:02:46.047044Z",
     "start_time": "2022-02-13T22:02:46.023693Z"
    }
   },
   "outputs": [],
   "source": [
    "cohorts['purchase_amount'] = data.groupby(by=['lifetime_cohort','event_registration_week',]).sum()"
   ]
  },
  {
   "cell_type": "code",
   "execution_count": 61,
   "id": "8b5add93",
   "metadata": {
    "ExecuteTime": {
     "end_time": "2022-02-13T22:04:36.261439Z",
     "start_time": "2022-02-13T22:04:36.254838Z"
    }
   },
   "outputs": [],
   "source": [
    "cohorts.reset_index(inplace=True)"
   ]
  },
  {
   "cell_type": "code",
   "execution_count": 62,
   "id": "03d10e16",
   "metadata": {
    "ExecuteTime": {
     "end_time": "2022-02-13T22:05:37.567359Z",
     "start_time": "2022-02-13T22:05:37.561642Z"
    }
   },
   "outputs": [],
   "source": [
    "cohorts['ARPPU'] = cohorts['purchase_amount']/cohorts['user_id']"
   ]
  },
  {
   "cell_type": "code",
   "execution_count": 64,
   "id": "6ebad82c",
   "metadata": {
    "ExecuteTime": {
     "end_time": "2022-02-13T22:06:30.739015Z",
     "start_time": "2022-02-13T22:06:30.712757Z"
    }
   },
   "outputs": [
    {
     "data": {
      "text/html": [
       "<div>\n",
       "<style scoped>\n",
       "    .dataframe tbody tr th:only-of-type {\n",
       "        vertical-align: middle;\n",
       "    }\n",
       "\n",
       "    .dataframe tbody tr th {\n",
       "        vertical-align: top;\n",
       "    }\n",
       "\n",
       "    .dataframe thead th {\n",
       "        text-align: right;\n",
       "    }\n",
       "</style>\n",
       "<table border=\"1\" class=\"dataframe\">\n",
       "  <thead>\n",
       "    <tr style=\"text-align: right;\">\n",
       "      <th></th>\n",
       "      <th>lifetime_cohort</th>\n",
       "      <th>event_registration_week</th>\n",
       "      <th>user_id</th>\n",
       "      <th>purchase_amount</th>\n",
       "      <th>ARPPU</th>\n",
       "    </tr>\n",
       "  </thead>\n",
       "  <tbody>\n",
       "    <tr>\n",
       "      <th>0</th>\n",
       "      <td>0</td>\n",
       "      <td>31</td>\n",
       "      <td>1975</td>\n",
       "      <td>8890.0</td>\n",
       "      <td>4.501266</td>\n",
       "    </tr>\n",
       "    <tr>\n",
       "      <th>1</th>\n",
       "      <td>0</td>\n",
       "      <td>32</td>\n",
       "      <td>1952</td>\n",
       "      <td>10850.0</td>\n",
       "      <td>5.558402</td>\n",
       "    </tr>\n",
       "    <tr>\n",
       "      <th>2</th>\n",
       "      <td>0</td>\n",
       "      <td>33</td>\n",
       "      <td>2045</td>\n",
       "      <td>9790.0</td>\n",
       "      <td>4.787286</td>\n",
       "    </tr>\n",
       "    <tr>\n",
       "      <th>3</th>\n",
       "      <td>0</td>\n",
       "      <td>34</td>\n",
       "      <td>1974</td>\n",
       "      <td>9510.0</td>\n",
       "      <td>4.817629</td>\n",
       "    </tr>\n",
       "    <tr>\n",
       "      <th>4</th>\n",
       "      <td>0</td>\n",
       "      <td>35</td>\n",
       "      <td>2050</td>\n",
       "      <td>11490.0</td>\n",
       "      <td>5.604878</td>\n",
       "    </tr>\n",
       "    <tr>\n",
       "      <th>5</th>\n",
       "      <td>1</td>\n",
       "      <td>31</td>\n",
       "      <td>1832</td>\n",
       "      <td>20540.0</td>\n",
       "      <td>11.211790</td>\n",
       "    </tr>\n",
       "    <tr>\n",
       "      <th>6</th>\n",
       "      <td>1</td>\n",
       "      <td>32</td>\n",
       "      <td>1814</td>\n",
       "      <td>21050.0</td>\n",
       "      <td>11.604190</td>\n",
       "    </tr>\n",
       "    <tr>\n",
       "      <th>7</th>\n",
       "      <td>1</td>\n",
       "      <td>33</td>\n",
       "      <td>1890</td>\n",
       "      <td>21730.0</td>\n",
       "      <td>11.497354</td>\n",
       "    </tr>\n",
       "    <tr>\n",
       "      <th>8</th>\n",
       "      <td>1</td>\n",
       "      <td>34</td>\n",
       "      <td>1834</td>\n",
       "      <td>19640.0</td>\n",
       "      <td>10.708833</td>\n",
       "    </tr>\n",
       "    <tr>\n",
       "      <th>9</th>\n",
       "      <td>2</td>\n",
       "      <td>31</td>\n",
       "      <td>1243</td>\n",
       "      <td>12210.0</td>\n",
       "      <td>9.823009</td>\n",
       "    </tr>\n",
       "    <tr>\n",
       "      <th>10</th>\n",
       "      <td>2</td>\n",
       "      <td>32</td>\n",
       "      <td>1265</td>\n",
       "      <td>12600.0</td>\n",
       "      <td>9.960474</td>\n",
       "    </tr>\n",
       "    <tr>\n",
       "      <th>11</th>\n",
       "      <td>2</td>\n",
       "      <td>33</td>\n",
       "      <td>1352</td>\n",
       "      <td>13740.0</td>\n",
       "      <td>10.162722</td>\n",
       "    </tr>\n",
       "    <tr>\n",
       "      <th>12</th>\n",
       "      <td>3</td>\n",
       "      <td>31</td>\n",
       "      <td>705</td>\n",
       "      <td>6120.0</td>\n",
       "      <td>8.680851</td>\n",
       "    </tr>\n",
       "    <tr>\n",
       "      <th>13</th>\n",
       "      <td>3</td>\n",
       "      <td>32</td>\n",
       "      <td>705</td>\n",
       "      <td>6260.0</td>\n",
       "      <td>8.879433</td>\n",
       "    </tr>\n",
       "    <tr>\n",
       "      <th>14</th>\n",
       "      <td>4</td>\n",
       "      <td>31</td>\n",
       "      <td>297</td>\n",
       "      <td>2010.0</td>\n",
       "      <td>6.767677</td>\n",
       "    </tr>\n",
       "  </tbody>\n",
       "</table>\n",
       "</div>"
      ],
      "text/plain": [
       "    lifetime_cohort  event_registration_week  user_id  purchase_amount  \\\n",
       "0                 0                       31     1975           8890.0   \n",
       "1                 0                       32     1952          10850.0   \n",
       "2                 0                       33     2045           9790.0   \n",
       "3                 0                       34     1974           9510.0   \n",
       "4                 0                       35     2050          11490.0   \n",
       "5                 1                       31     1832          20540.0   \n",
       "6                 1                       32     1814          21050.0   \n",
       "7                 1                       33     1890          21730.0   \n",
       "8                 1                       34     1834          19640.0   \n",
       "9                 2                       31     1243          12210.0   \n",
       "10                2                       32     1265          12600.0   \n",
       "11                2                       33     1352          13740.0   \n",
       "12                3                       31      705           6120.0   \n",
       "13                3                       32      705           6260.0   \n",
       "14                4                       31      297           2010.0   \n",
       "\n",
       "        ARPPU  \n",
       "0    4.501266  \n",
       "1    5.558402  \n",
       "2    4.787286  \n",
       "3    4.817629  \n",
       "4    5.604878  \n",
       "5   11.211790  \n",
       "6   11.604190  \n",
       "7   11.497354  \n",
       "8   10.708833  \n",
       "9    9.823009  \n",
       "10   9.960474  \n",
       "11  10.162722  \n",
       "12   8.680851  \n",
       "13   8.879433  \n",
       "14   6.767677  "
      ]
     },
     "execution_count": 64,
     "metadata": {},
     "output_type": "execute_result"
    }
   ],
   "source": [
    "cohorts"
   ]
  },
  {
   "cell_type": "code",
   "execution_count": 66,
   "id": "4c3bd7d0",
   "metadata": {
    "ExecuteTime": {
     "end_time": "2022-02-13T22:07:05.308794Z",
     "start_time": "2022-02-13T22:07:05.290578Z"
    }
   },
   "outputs": [],
   "source": [
    "summary_ARPU = cohorts.pivot_table(\n",
    "    index = ['event_registration_week'],\n",
    "    columns = ['lifetime_cohort'],\n",
    "    values = ['ARPPU']\n",
    ")"
   ]
  },
  {
   "cell_type": "code",
   "execution_count": 67,
   "id": "ce691792",
   "metadata": {
    "ExecuteTime": {
     "end_time": "2022-02-13T22:07:11.199466Z",
     "start_time": "2022-02-13T22:07:11.178389Z"
    }
   },
   "outputs": [
    {
     "data": {
      "text/html": [
       "<div>\n",
       "<style scoped>\n",
       "    .dataframe tbody tr th:only-of-type {\n",
       "        vertical-align: middle;\n",
       "    }\n",
       "\n",
       "    .dataframe tbody tr th {\n",
       "        vertical-align: top;\n",
       "    }\n",
       "\n",
       "    .dataframe thead tr th {\n",
       "        text-align: left;\n",
       "    }\n",
       "\n",
       "    .dataframe thead tr:last-of-type th {\n",
       "        text-align: right;\n",
       "    }\n",
       "</style>\n",
       "<table border=\"1\" class=\"dataframe\">\n",
       "  <thead>\n",
       "    <tr>\n",
       "      <th></th>\n",
       "      <th colspan=\"5\" halign=\"left\">ARPPU</th>\n",
       "    </tr>\n",
       "    <tr>\n",
       "      <th>lifetime_cohort</th>\n",
       "      <th>0</th>\n",
       "      <th>1</th>\n",
       "      <th>2</th>\n",
       "      <th>3</th>\n",
       "      <th>4</th>\n",
       "    </tr>\n",
       "    <tr>\n",
       "      <th>event_registration_week</th>\n",
       "      <th></th>\n",
       "      <th></th>\n",
       "      <th></th>\n",
       "      <th></th>\n",
       "      <th></th>\n",
       "    </tr>\n",
       "  </thead>\n",
       "  <tbody>\n",
       "    <tr>\n",
       "      <th>31</th>\n",
       "      <td>4.501266</td>\n",
       "      <td>11.211790</td>\n",
       "      <td>9.823009</td>\n",
       "      <td>8.680851</td>\n",
       "      <td>6.767677</td>\n",
       "    </tr>\n",
       "    <tr>\n",
       "      <th>32</th>\n",
       "      <td>5.558402</td>\n",
       "      <td>11.604190</td>\n",
       "      <td>9.960474</td>\n",
       "      <td>8.879433</td>\n",
       "      <td>NaN</td>\n",
       "    </tr>\n",
       "    <tr>\n",
       "      <th>33</th>\n",
       "      <td>4.787286</td>\n",
       "      <td>11.497354</td>\n",
       "      <td>10.162722</td>\n",
       "      <td>NaN</td>\n",
       "      <td>NaN</td>\n",
       "    </tr>\n",
       "    <tr>\n",
       "      <th>34</th>\n",
       "      <td>4.817629</td>\n",
       "      <td>10.708833</td>\n",
       "      <td>NaN</td>\n",
       "      <td>NaN</td>\n",
       "      <td>NaN</td>\n",
       "    </tr>\n",
       "    <tr>\n",
       "      <th>35</th>\n",
       "      <td>5.604878</td>\n",
       "      <td>NaN</td>\n",
       "      <td>NaN</td>\n",
       "      <td>NaN</td>\n",
       "      <td>NaN</td>\n",
       "    </tr>\n",
       "  </tbody>\n",
       "</table>\n",
       "</div>"
      ],
      "text/plain": [
       "                            ARPPU                                          \n",
       "lifetime_cohort                 0          1          2         3         4\n",
       "event_registration_week                                                    \n",
       "31                       4.501266  11.211790   9.823009  8.680851  6.767677\n",
       "32                       5.558402  11.604190   9.960474  8.879433       NaN\n",
       "33                       4.787286  11.497354  10.162722       NaN       NaN\n",
       "34                       4.817629  10.708833        NaN       NaN       NaN\n",
       "35                       5.604878        NaN        NaN       NaN       NaN"
      ]
     },
     "execution_count": 67,
     "metadata": {},
     "output_type": "execute_result"
    }
   ],
   "source": [
    "summary_ARPU"
   ]
  },
  {
   "cell_type": "markdown",
   "id": "26149a7d",
   "metadata": {},
   "source": [
    "### 8. What is the 3-week ARPPU of a cohort with ID 31? Give the answer with a floating point number, rounded to 2 decimal places, inclusive."
   ]
  },
  {
   "cell_type": "code",
   "execution_count": 72,
   "id": "847c510c",
   "metadata": {
    "ExecuteTime": {
     "end_time": "2022-02-13T22:18:58.076709Z",
     "start_time": "2022-02-13T22:18:58.068008Z"
    }
   },
   "outputs": [
    {
     "data": {
      "text/plain": [
       "MultiIndex([('ARPPU', 0),\n",
       "            ('ARPPU', 1),\n",
       "            ('ARPPU', 2),\n",
       "            ('ARPPU', 3),\n",
       "            ('ARPPU', 4)],\n",
       "           names=[None, 'lifetime_cohort'])"
      ]
     },
     "execution_count": 72,
     "metadata": {},
     "output_type": "execute_result"
    }
   ],
   "source": [
    "summary_ARPU.columns"
   ]
  },
  {
   "cell_type": "code",
   "execution_count": 73,
   "id": "7fda8395",
   "metadata": {
    "ExecuteTime": {
     "end_time": "2022-02-13T22:19:22.763433Z",
     "start_time": "2022-02-13T22:19:22.758433Z"
    }
   },
   "outputs": [],
   "source": [
    "arppu = round(summary_ARPU.loc[31,('ARPPU', 3)],2)"
   ]
  },
  {
   "cell_type": "code",
   "execution_count": 74,
   "id": "58165694",
   "metadata": {
    "ExecuteTime": {
     "end_time": "2022-02-13T22:19:25.771276Z",
     "start_time": "2022-02-13T22:19:25.765989Z"
    }
   },
   "outputs": [
    {
     "name": "stdout",
     "output_type": "stream",
     "text": [
      "The arppu for a cohort 31 with ID at 3 week is 8.68.\n"
     ]
    }
   ],
   "source": [
    "print(f\"The arppu for a cohort 31 with ID at 3 week is {arppu}.\")"
   ]
  },
  {
   "cell_type": "markdown",
   "id": "902d341d",
   "metadata": {},
   "source": [
    "### 9. What is the median time between user registration and first purchase? Give the answer in seconds (!) As an integer."
   ]
  },
  {
   "cell_type": "code",
   "execution_count": 215,
   "id": "b26f038c",
   "metadata": {
    "ExecuteTime": {
     "end_time": "2022-02-14T00:26:55.859543Z",
     "start_time": "2022-02-14T00:26:55.849122Z"
    }
   },
   "outputs": [],
   "source": [
    "def time_purhsace_amount(data):\n",
    "    df= data.copy()\n",
    "    \n",
    "    df.reset_index(inplace = True)\n",
    "    \n",
    "    mask_registration = df['event_type'] =='registration'\n",
    "    registration = df.loc[mask_registration,['user_id','event_date']].copy()\n",
    "    registration.rename(columns = {'event_date':'registration_date'}, inplace =True)\n",
    "    \n",
    "    mask_purchase = df['event_type'] =='purchase'\n",
    "    pushase = df.loc[mask_purchase,['user_id','event_date']].copy()\n",
    "    pushase.rename(columns = {'event_date':'pushase_date'}, inplace =True)\n",
    "    \n",
    "    df = pushase.merge(\n",
    "        registration,\n",
    "        how = 'left',\n",
    "        on = 'user_id'\n",
    "    )\n",
    "    \n",
    "    df.drop_duplicates( subset = ['user_id'], inplace = True, keep ='first'  )\n",
    "    \n",
    "    time_to_purshase = (df['pushase_date'] - df['registration_date']).dt.total_seconds()\n",
    "    \n",
    "    \n",
    "    \n",
    "    return time_to_purshase"
   ]
  },
  {
   "cell_type": "code",
   "execution_count": 228,
   "id": "30437fc4",
   "metadata": {
    "ExecuteTime": {
     "end_time": "2022-02-14T00:32:23.622885Z",
     "start_time": "2022-02-14T00:32:23.573428Z"
    }
   },
   "outputs": [],
   "source": [
    "median = int(time_purhsace_amount(data).median())"
   ]
  },
  {
   "cell_type": "code",
   "execution_count": 229,
   "id": "e9b308d3",
   "metadata": {
    "ExecuteTime": {
     "end_time": "2022-02-14T00:32:26.930027Z",
     "start_time": "2022-02-14T00:32:26.925654Z"
    }
   },
   "outputs": [
    {
     "name": "stdout",
     "output_type": "stream",
     "text": [
      "The median time to first purshase is 434774 seconds.\n"
     ]
    }
   ],
   "source": [
    "print(f\"The median time to first purshase is {median} seconds.\")"
   ]
  }
 ],
 "metadata": {
  "kernelspec": {
   "display_name": "Python 3 (ipykernel)",
   "language": "python",
   "name": "python3"
  },
  "language_info": {
   "codemirror_mode": {
    "name": "ipython",
    "version": 3
   },
   "file_extension": ".py",
   "mimetype": "text/x-python",
   "name": "python",
   "nbconvert_exporter": "python",
   "pygments_lexer": "ipython3",
   "version": "3.8.10"
  },
  "toc": {
   "base_numbering": 1,
   "nav_menu": {},
   "number_sections": true,
   "sideBar": true,
   "skip_h1_title": true,
   "title_cell": "Sumário",
   "title_sidebar": "Contents",
   "toc_cell": true,
   "toc_position": {},
   "toc_section_display": true,
   "toc_window_display": false
  },
  "varInspector": {
   "cols": {
    "lenName": 16,
    "lenType": 16,
    "lenVar": 40
   },
   "kernels_config": {
    "python": {
     "delete_cmd_postfix": "",
     "delete_cmd_prefix": "del ",
     "library": "var_list.py",
     "varRefreshCmd": "print(var_dic_list())"
    },
    "r": {
     "delete_cmd_postfix": ") ",
     "delete_cmd_prefix": "rm(",
     "library": "var_list.r",
     "varRefreshCmd": "cat(var_dic_list()) "
    }
   },
   "types_to_exclude": [
    "module",
    "function",
    "builtin_function_or_method",
    "instance",
    "_Feature"
   ],
   "window_display": false
  }
 },
 "nbformat": 4,
 "nbformat_minor": 5
}
