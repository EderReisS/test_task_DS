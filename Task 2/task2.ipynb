{
 "cells": [
  {
   "cell_type": "markdown",
   "id": "89d3bc9a",
   "metadata": {
    "toc": true
   },
   "source": [
    "<h1>Sumário<span class=\"tocSkip\"></span></h1>\n",
    "<div class=\"toc\"><ul class=\"toc-item\"><li><span><a href=\"#Task-2\" data-toc-modified-id=\"Task-2-1\"><span class=\"toc-item-num\">1&nbsp;&nbsp;</span>Task 2</a></span><ul class=\"toc-item\"><li><span><a href=\"#1.-Download-the-event_data.csv-dataset,-which-contains-data-on-the-use-of-the-mobile-application-of-users-who-registered-from-July-29-to-September-1,-2019:\" data-toc-modified-id=\"1.-Download-the-event_data.csv-dataset,-which-contains-data-on-the-use-of-the-mobile-application-of-users-who-registered-from-July-29-to-September-1,-2019:-1.1\"><span class=\"toc-item-num\">1.1&nbsp;&nbsp;</span>1. Download the event_data.csv dataset, which contains data on the use of the mobile application of users who registered from July 29 to September 1, 2019:</a></span></li><li><span><a href=\"#2.-Highlight-user-cohorts-based-on-the-week-of-registration-in-the-application.-The-cohort-identifier-should-be-the-week-ordinal-(for-example,-the-week-from-July-29-to-August-4-should-have-identifier-31).\" data-toc-modified-id=\"2.-Highlight-user-cohorts-based-on-the-week-of-registration-in-the-application.-The-cohort-identifier-should-be-the-week-ordinal-(for-example,-the-week-from-July-29-to-August-4-should-have-identifier-31).-1.2\"><span class=\"toc-item-num\">1.2&nbsp;&nbsp;</span>2. Highlight user cohorts based on the week of registration in the application. The cohort identifier should be the week ordinal (for example, the week from July 29 to August 4 should have identifier 31).</a></span></li><li><span><a href=\"#3.-How-many-unique-users-in-the-cohort-with-ID-33?\" data-toc-modified-id=\"3.-How-many-unique-users-in-the-cohort-with-ID-33?-1.3\"><span class=\"toc-item-num\">1.3&nbsp;&nbsp;</span>3. How many unique users in the cohort with ID 33?</a></span></li><li><span><a href=\"#4.-For-each-event,-highlight-the-indicator-lifetime---the-weekly-lifetime-of-the-cohort.\" data-toc-modified-id=\"4.-For-each-event,-highlight-the-indicator-lifetime---the-weekly-lifetime-of-the-cohort.-1.4\"><span class=\"toc-item-num\">1.4&nbsp;&nbsp;</span>4. For each event, highlight the indicator lifetime - the weekly lifetime of the cohort.</a></span></li></ul></li></ul></div>"
   ]
  },
  {
   "cell_type": "markdown",
   "id": "1a069110",
   "metadata": {},
   "source": [
    "## Task 2"
   ]
  },
  {
   "cell_type": "code",
   "execution_count": 10,
   "id": "3d70a43a",
   "metadata": {
    "ExecuteTime": {
     "end_time": "2022-02-12T16:36:45.128986Z",
     "start_time": "2022-02-12T16:36:45.125516Z"
    }
   },
   "outputs": [],
   "source": [
    "import pandas as pd\n",
    "import numpy as np\n",
    "import datetime as dt"
   ]
  },
  {
   "cell_type": "markdown",
   "id": "8f1128ad",
   "metadata": {},
   "source": [
    "### 1. Download the event_data.csv dataset, which contains data on the use of the mobile application of users who registered from July 29 to September 1, 2019:\n",
    "- user_id - user identifier;\n",
    "- event_date - time of the event;\n",
    "- event_type - type of event: registration - registration in the application,  simple_event click event in the application; \n",
    "- purchase - an event of purchase within the application;\n",
    "- purchase_amount - purchase amount."
   ]
  },
  {
   "cell_type": "code",
   "execution_count": 80,
   "id": "6d9115d0",
   "metadata": {
    "ExecuteTime": {
     "end_time": "2022-02-12T18:20:19.245621Z",
     "start_time": "2022-02-12T18:20:19.092968Z"
    }
   },
   "outputs": [],
   "source": [
    "data = pd.read_csv('event_data.csv', parse_dates=True, index_col='event_date')"
   ]
  },
  {
   "cell_type": "code",
   "execution_count": 81,
   "id": "e836a53d",
   "metadata": {
    "ExecuteTime": {
     "end_time": "2022-02-12T18:20:21.551948Z",
     "start_time": "2022-02-12T18:20:21.537613Z"
    }
   },
   "outputs": [
    {
     "data": {
      "text/html": [
       "<div>\n",
       "<style scoped>\n",
       "    .dataframe tbody tr th:only-of-type {\n",
       "        vertical-align: middle;\n",
       "    }\n",
       "\n",
       "    .dataframe tbody tr th {\n",
       "        vertical-align: top;\n",
       "    }\n",
       "\n",
       "    .dataframe thead th {\n",
       "        text-align: right;\n",
       "    }\n",
       "</style>\n",
       "<table border=\"1\" class=\"dataframe\">\n",
       "  <thead>\n",
       "    <tr style=\"text-align: right;\">\n",
       "      <th></th>\n",
       "      <th>user_id</th>\n",
       "      <th>event_type</th>\n",
       "      <th>purchase_amount</th>\n",
       "    </tr>\n",
       "    <tr>\n",
       "      <th>event_date</th>\n",
       "      <th></th>\n",
       "      <th></th>\n",
       "      <th></th>\n",
       "    </tr>\n",
       "  </thead>\n",
       "  <tbody>\n",
       "    <tr>\n",
       "      <th>2019-07-29 00:02:15</th>\n",
       "      <td>c40e6a</td>\n",
       "      <td>registration</td>\n",
       "      <td>NaN</td>\n",
       "    </tr>\n",
       "    <tr>\n",
       "      <th>2019-07-29 00:04:46</th>\n",
       "      <td>a2b682</td>\n",
       "      <td>registration</td>\n",
       "      <td>NaN</td>\n",
       "    </tr>\n",
       "    <tr>\n",
       "      <th>2019-07-29 00:13:22</th>\n",
       "      <td>9ac888</td>\n",
       "      <td>registration</td>\n",
       "      <td>NaN</td>\n",
       "    </tr>\n",
       "    <tr>\n",
       "      <th>2019-07-29 00:16:47</th>\n",
       "      <td>93ff22</td>\n",
       "      <td>registration</td>\n",
       "      <td>NaN</td>\n",
       "    </tr>\n",
       "    <tr>\n",
       "      <th>2019-07-29 00:19:23</th>\n",
       "      <td>65ef85</td>\n",
       "      <td>registration</td>\n",
       "      <td>NaN</td>\n",
       "    </tr>\n",
       "  </tbody>\n",
       "</table>\n",
       "</div>"
      ],
      "text/plain": [
       "                    user_id    event_type  purchase_amount\n",
       "event_date                                                \n",
       "2019-07-29 00:02:15  c40e6a  registration              NaN\n",
       "2019-07-29 00:04:46  a2b682  registration              NaN\n",
       "2019-07-29 00:13:22  9ac888  registration              NaN\n",
       "2019-07-29 00:16:47  93ff22  registration              NaN\n",
       "2019-07-29 00:19:23  65ef85  registration              NaN"
      ]
     },
     "execution_count": 81,
     "metadata": {},
     "output_type": "execute_result"
    }
   ],
   "source": [
    "data.head()"
   ]
  },
  {
   "cell_type": "code",
   "execution_count": 106,
   "id": "d6dc7578",
   "metadata": {
    "ExecuteTime": {
     "end_time": "2022-02-12T18:52:26.384319Z",
     "start_time": "2022-02-12T18:52:26.348517Z"
    }
   },
   "outputs": [
    {
     "name": "stdout",
     "output_type": "stream",
     "text": [
      "<class 'pandas.core.frame.DataFrame'>\n",
      "DatetimeIndex: 79742 entries, 2019-07-29 00:02:15 to 2019-09-01 23:59:54\n",
      "Data columns (total 4 columns):\n",
      " #   Column           Non-Null Count  Dtype  \n",
      "---  ------           --------------  -----  \n",
      " 0   user_id          79742 non-null  object \n",
      " 1   event_type       79742 non-null  object \n",
      " 2   purchase_amount  6207 non-null   float64\n",
      " 3   event_date_week  79742 non-null  int64  \n",
      "dtypes: float64(1), int64(1), object(2)\n",
      "memory usage: 3.0+ MB\n"
     ]
    }
   ],
   "source": [
    "data.info()"
   ]
  },
  {
   "cell_type": "markdown",
   "id": "31fd75d5",
   "metadata": {
    "ExecuteTime": {
     "end_time": "2022-02-12T16:30:24.552870Z",
     "start_time": "2022-02-12T16:30:24.543902Z"
    }
   },
   "source": [
    "### 2. Highlight user cohorts based on the week of registration in the application. The cohort identifier should be the week ordinal (for example, the week from July 29 to August 4 should have identifier 31)."
   ]
  },
  {
   "cell_type": "code",
   "execution_count": 60,
   "id": "23dcded1",
   "metadata": {
    "ExecuteTime": {
     "end_time": "2022-02-12T18:10:50.331610Z",
     "start_time": "2022-02-12T18:10:50.303334Z"
    }
   },
   "outputs": [],
   "source": []
  },
  {
   "cell_type": "code",
   "execution_count": 83,
   "id": "92aa9fe9",
   "metadata": {
    "ExecuteTime": {
     "end_time": "2022-02-12T18:20:35.146777Z",
     "start_time": "2022-02-12T18:20:35.136465Z"
    }
   },
   "outputs": [
    {
     "data": {
      "text/plain": [
       "DatetimeIndex(['2019-07-29 00:02:15', '2019-07-29 00:04:46',\n",
       "               '2019-07-29 00:13:22', '2019-07-29 00:16:47',\n",
       "               '2019-07-29 00:19:23', '2019-07-29 00:21:16',\n",
       "               '2019-07-29 00:25:53', '2019-07-29 00:28:51',\n",
       "               '2019-07-29 00:30:46', '2019-07-29 00:41:54',\n",
       "               ...\n",
       "               '2019-09-01 23:54:55', '2019-09-01 23:55:40',\n",
       "               '2019-09-01 23:55:56', '2019-09-01 23:56:06',\n",
       "               '2019-09-01 23:56:54', '2019-09-01 23:57:41',\n",
       "               '2019-09-01 23:57:50', '2019-09-01 23:59:40',\n",
       "               '2019-09-01 23:59:51', '2019-09-01 23:59:54'],\n",
       "              dtype='datetime64[ns]', name='event_date', length=79742, freq=None)"
      ]
     },
     "execution_count": 83,
     "metadata": {},
     "output_type": "execute_result"
    }
   ],
   "source": [
    "data.index"
   ]
  },
  {
   "cell_type": "code",
   "execution_count": 85,
   "id": "9b24f2a8",
   "metadata": {
    "ExecuteTime": {
     "end_time": "2022-02-12T18:21:26.023245Z",
     "start_time": "2022-02-12T18:21:25.330291Z"
    }
   },
   "outputs": [
    {
     "data": {
      "text/plain": [
       "event_date\n",
       "2019-07-29 00:02:15    30\n",
       "2019-07-29 00:04:46    30\n",
       "2019-07-29 00:13:22    30\n",
       "2019-07-29 00:16:47    30\n",
       "2019-07-29 00:19:23    30\n",
       "Name: event_date_week, dtype: object"
      ]
     },
     "execution_count": 85,
     "metadata": {},
     "output_type": "execute_result"
    }
   ],
   "source": [
    "data['event_date_week'] =  data.index.strftime('%W')\n",
    "data['event_date_week'].head()"
   ]
  },
  {
   "cell_type": "code",
   "execution_count": 92,
   "id": "a7a140c4",
   "metadata": {
    "ExecuteTime": {
     "end_time": "2022-02-12T18:39:32.928092Z",
     "start_time": "2022-02-12T18:39:32.922220Z"
    }
   },
   "outputs": [],
   "source": [
    "data['event_date_week'] = data['event_date_week'].astype(\"int\")+1"
   ]
  },
  {
   "cell_type": "code",
   "execution_count": 95,
   "id": "581820ce",
   "metadata": {
    "ExecuteTime": {
     "end_time": "2022-02-12T18:44:48.353298Z",
     "start_time": "2022-02-12T18:44:48.332057Z"
    }
   },
   "outputs": [
    {
     "data": {
      "text/html": [
       "<div>\n",
       "<style scoped>\n",
       "    .dataframe tbody tr th:only-of-type {\n",
       "        vertical-align: middle;\n",
       "    }\n",
       "\n",
       "    .dataframe tbody tr th {\n",
       "        vertical-align: top;\n",
       "    }\n",
       "\n",
       "    .dataframe thead th {\n",
       "        text-align: right;\n",
       "    }\n",
       "</style>\n",
       "<table border=\"1\" class=\"dataframe\">\n",
       "  <thead>\n",
       "    <tr style=\"text-align: right;\">\n",
       "      <th></th>\n",
       "      <th>user_id</th>\n",
       "      <th>event_type</th>\n",
       "      <th>purchase_amount</th>\n",
       "      <th>event_date_week</th>\n",
       "    </tr>\n",
       "    <tr>\n",
       "      <th>event_date</th>\n",
       "      <th></th>\n",
       "      <th></th>\n",
       "      <th></th>\n",
       "      <th></th>\n",
       "    </tr>\n",
       "  </thead>\n",
       "  <tbody>\n",
       "    <tr>\n",
       "      <th>2019-07-29 00:02:15</th>\n",
       "      <td>c40e6a</td>\n",
       "      <td>registration</td>\n",
       "      <td>NaN</td>\n",
       "      <td>31</td>\n",
       "    </tr>\n",
       "    <tr>\n",
       "      <th>2019-07-29 00:04:46</th>\n",
       "      <td>a2b682</td>\n",
       "      <td>registration</td>\n",
       "      <td>NaN</td>\n",
       "      <td>31</td>\n",
       "    </tr>\n",
       "    <tr>\n",
       "      <th>2019-07-29 00:13:22</th>\n",
       "      <td>9ac888</td>\n",
       "      <td>registration</td>\n",
       "      <td>NaN</td>\n",
       "      <td>31</td>\n",
       "    </tr>\n",
       "    <tr>\n",
       "      <th>2019-07-29 00:16:47</th>\n",
       "      <td>93ff22</td>\n",
       "      <td>registration</td>\n",
       "      <td>NaN</td>\n",
       "      <td>31</td>\n",
       "    </tr>\n",
       "    <tr>\n",
       "      <th>2019-07-29 00:19:23</th>\n",
       "      <td>65ef85</td>\n",
       "      <td>registration</td>\n",
       "      <td>NaN</td>\n",
       "      <td>31</td>\n",
       "    </tr>\n",
       "  </tbody>\n",
       "</table>\n",
       "</div>"
      ],
      "text/plain": [
       "                    user_id    event_type  purchase_amount  event_date_week\n",
       "event_date                                                                 \n",
       "2019-07-29 00:02:15  c40e6a  registration              NaN               31\n",
       "2019-07-29 00:04:46  a2b682  registration              NaN               31\n",
       "2019-07-29 00:13:22  9ac888  registration              NaN               31\n",
       "2019-07-29 00:16:47  93ff22  registration              NaN               31\n",
       "2019-07-29 00:19:23  65ef85  registration              NaN               31"
      ]
     },
     "execution_count": 95,
     "metadata": {},
     "output_type": "execute_result"
    }
   ],
   "source": [
    "data.head()"
   ]
  },
  {
   "cell_type": "markdown",
   "id": "9529ccbb",
   "metadata": {},
   "source": [
    "### 3. How many unique users in the cohort with ID 33?"
   ]
  },
  {
   "cell_type": "code",
   "execution_count": 110,
   "id": "152de44d",
   "metadata": {
    "ExecuteTime": {
     "end_time": "2022-02-12T18:55:11.998599Z",
     "start_time": "2022-02-12T18:55:11.985639Z"
    }
   },
   "outputs": [],
   "source": [
    "unique_users=data.loc[data['event_date_week']==33,'user_id'].unique()\n",
    "total_unique_users = len(unique_users)"
   ]
  },
  {
   "cell_type": "code",
   "execution_count": 111,
   "id": "c210b21c",
   "metadata": {
    "ExecuteTime": {
     "end_time": "2022-02-12T18:55:14.226285Z",
     "start_time": "2022-02-12T18:55:14.219084Z"
    }
   },
   "outputs": [
    {
     "name": "stdout",
     "output_type": "stream",
     "text": [
      "There are 5102 unique users.\n"
     ]
    }
   ],
   "source": [
    "print(\"There are {} unique users.\".format(total_unique_users))"
   ]
  },
  {
   "cell_type": "markdown",
   "id": "5e545cb8",
   "metadata": {},
   "source": [
    "### 4. For each event, highlight the indicator lifetime - the weekly lifetime of the cohort.\n",
    "The lifetime indicator is calculated based on the serial number of the week in which the event is committed, relative to the week of registration. For example, an event committed on August 3 by a user from a cohort of registrants at 31 weeks will be committed on the zero week of lifetime, and an event committed by the same user on August 5 will be committed on the first week of lifetime)."
   ]
  }
 ],
 "metadata": {
  "kernelspec": {
   "display_name": "Python 3 (ipykernel)",
   "language": "python",
   "name": "python3"
  },
  "language_info": {
   "codemirror_mode": {
    "name": "ipython",
    "version": 3
   },
   "file_extension": ".py",
   "mimetype": "text/x-python",
   "name": "python",
   "nbconvert_exporter": "python",
   "pygments_lexer": "ipython3",
   "version": "3.8.10"
  },
  "toc": {
   "base_numbering": 1,
   "nav_menu": {},
   "number_sections": true,
   "sideBar": true,
   "skip_h1_title": true,
   "title_cell": "Sumário",
   "title_sidebar": "Contents",
   "toc_cell": true,
   "toc_position": {},
   "toc_section_display": true,
   "toc_window_display": false
  },
  "varInspector": {
   "cols": {
    "lenName": 16,
    "lenType": 16,
    "lenVar": 40
   },
   "kernels_config": {
    "python": {
     "delete_cmd_postfix": "",
     "delete_cmd_prefix": "del ",
     "library": "var_list.py",
     "varRefreshCmd": "print(var_dic_list())"
    },
    "r": {
     "delete_cmd_postfix": ") ",
     "delete_cmd_prefix": "rm(",
     "library": "var_list.r",
     "varRefreshCmd": "cat(var_dic_list()) "
    }
   },
   "types_to_exclude": [
    "module",
    "function",
    "builtin_function_or_method",
    "instance",
    "_Feature"
   ],
   "window_display": false
  }
 },
 "nbformat": 4,
 "nbformat_minor": 5
}
