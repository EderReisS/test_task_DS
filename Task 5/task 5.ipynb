{
 "cells": [
  {
   "cell_type": "markdown",
   "id": "458ddba1",
   "metadata": {
    "toc": true
   },
   "source": [
    "<h1>Sumário<span class=\"tocSkip\"></span></h1>\n",
    "<div class=\"toc\"><ul class=\"toc-item\"><li><span><a href=\"#Ormer-Model-MSE\" data-toc-modified-id=\"Ormer-Model-MSE-1\"><span class=\"toc-item-num\">1&nbsp;&nbsp;</span>Ormer Model MSE</a></span></li><li><span><a href=\"#Limor's-MSE\" data-toc-modified-id=\"Limor's-MSE-2\"><span class=\"toc-item-num\">2&nbsp;&nbsp;</span>Limor's MSE</a></span></li></ul></div>"
   ]
  },
  {
   "cell_type": "markdown",
   "id": "d28752e6",
   "metadata": {},
   "source": [
    "# Task 5\n",
    "\n",
    "Omer trained a linear regression model and tested its performance on a test sample of 500\n",
    "objects. On 400 of those, the model returned a prediction higher than expected by 0.5, and on\n",
    "the remaining 100, the model returned a prediction lower than expected by 0.7.\n",
    "What is the MSE for his model?\n",
    "Limor claims that the linear regression model wasn't trained correctly, and we can do improve\n",
    "it by changing all the answers by a constant value. What will be her MSE?\n",
    "You can assume that Limor found the smallest error under her constraints.\n",
    "Return two values - Omer's and Limor's MSE."
   ]
  },
  {
   "cell_type": "code",
   "execution_count": 1,
   "id": "43e4723f",
   "metadata": {
    "ExecuteTime": {
     "end_time": "2022-02-14T19:33:02.084588Z",
     "start_time": "2022-02-14T19:33:02.080451Z"
    }
   },
   "outputs": [],
   "source": [
    "import numpy as np"
   ]
  },
  {
   "cell_type": "code",
   "execution_count": 2,
   "id": "c5b60b3f",
   "metadata": {
    "ExecuteTime": {
     "end_time": "2022-02-14T19:34:30.559075Z",
     "start_time": "2022-02-14T19:34:30.550698Z"
    }
   },
   "outputs": [],
   "source": [
    "higher = np.full(400,0.5)"
   ]
  },
  {
   "cell_type": "code",
   "execution_count": 5,
   "id": "cac87dfe",
   "metadata": {
    "ExecuteTime": {
     "end_time": "2022-02-14T19:35:22.928647Z",
     "start_time": "2022-02-14T19:35:22.922421Z"
    }
   },
   "outputs": [],
   "source": [
    "lower = np.full(100,-0.7)"
   ]
  },
  {
   "cell_type": "code",
   "execution_count": 6,
   "id": "9743451a",
   "metadata": {
    "ExecuteTime": {
     "end_time": "2022-02-14T19:36:46.565387Z",
     "start_time": "2022-02-14T19:36:46.558827Z"
    }
   },
   "outputs": [],
   "source": [
    "ormer_error = np.append(higher,lower)"
   ]
  },
  {
   "cell_type": "markdown",
   "id": "e88b8b96",
   "metadata": {},
   "source": [
    "## Ormer Model MSE "
   ]
  },
  {
   "cell_type": "code",
   "execution_count": 10,
   "id": "762e43aa",
   "metadata": {
    "ExecuteTime": {
     "end_time": "2022-02-14T19:38:57.906006Z",
     "start_time": "2022-02-14T19:38:57.902152Z"
    }
   },
   "outputs": [],
   "source": [
    "ormer_MSE = (ormer_error**2).sum()/len(ormer_error)"
   ]
  },
  {
   "cell_type": "code",
   "execution_count": 11,
   "id": "7fc1a991",
   "metadata": {
    "ExecuteTime": {
     "end_time": "2022-02-14T19:39:05.413676Z",
     "start_time": "2022-02-14T19:39:05.406093Z"
    }
   },
   "outputs": [
    {
     "data": {
      "text/plain": [
       "0.298"
      ]
     },
     "execution_count": 11,
     "metadata": {},
     "output_type": "execute_result"
    }
   ],
   "source": [
    "ormer_MSE"
   ]
  },
  {
   "cell_type": "markdown",
   "id": "8b88d01c",
   "metadata": {},
   "source": [
    "## Limor's MSE"
   ]
  },
  {
   "cell_type": "markdown",
   "id": "f5f549a4",
   "metadata": {},
   "source": [
    "Unfortunately, i'm not able still calculate the MSE on Limor Model already."
   ]
  }
 ],
 "metadata": {
  "kernelspec": {
   "display_name": "Python 3 (ipykernel)",
   "language": "python",
   "name": "python3"
  },
  "language_info": {
   "codemirror_mode": {
    "name": "ipython",
    "version": 3
   },
   "file_extension": ".py",
   "mimetype": "text/x-python",
   "name": "python",
   "nbconvert_exporter": "python",
   "pygments_lexer": "ipython3",
   "version": "3.8.10"
  },
  "toc": {
   "base_numbering": 1,
   "nav_menu": {},
   "number_sections": true,
   "sideBar": true,
   "skip_h1_title": true,
   "title_cell": "Sumário",
   "title_sidebar": "Contents",
   "toc_cell": true,
   "toc_position": {},
   "toc_section_display": true,
   "toc_window_display": false
  },
  "varInspector": {
   "cols": {
    "lenName": 16,
    "lenType": 16,
    "lenVar": 40
   },
   "kernels_config": {
    "python": {
     "delete_cmd_postfix": "",
     "delete_cmd_prefix": "del ",
     "library": "var_list.py",
     "varRefreshCmd": "print(var_dic_list())"
    },
    "r": {
     "delete_cmd_postfix": ") ",
     "delete_cmd_prefix": "rm(",
     "library": "var_list.r",
     "varRefreshCmd": "cat(var_dic_list()) "
    }
   },
   "types_to_exclude": [
    "module",
    "function",
    "builtin_function_or_method",
    "instance",
    "_Feature"
   ],
   "window_display": false
  }
 },
 "nbformat": 4,
 "nbformat_minor": 5
}
